{
 "cells": [
  {
   "cell_type": "code",
   "execution_count": 1,
   "id": "927fc4f1-c2df-4702-af6d-6fdcd002b8bf",
   "metadata": {},
   "outputs": [],
   "source": [
    "%matplotlib inline\n",
    "import numpy as np\n",
    "import matplotlib.pyplot as plt\n",
    "import pandas as pd \n",
    "from sklearn.impute import KNNImputer\n",
    "from sklearn.preprocessing import scale\n",
    "from sklearn.preprocessing import OneHotEncoder\n",
    "from imblearn.over_sampling import SMOTE\n",
    "\n",
    "from sklearn.metrics import roc_auc_score, f1_score"
   ]
  },
  {
   "cell_type": "code",
   "execution_count": 2,
   "id": "ca8e84ad-db4b-4bea-bdcc-f33571365586",
   "metadata": {},
   "outputs": [
    {
     "name": "stdout",
     "output_type": "stream",
     "text": [
      "<class 'pandas.core.frame.DataFrame'>\n",
      "RangeIndex: 866 entries, 0 to 865\n",
      "Data columns (total 15 columns):\n",
      " #   Column    Non-Null Count  Dtype  \n",
      "---  ------    --------------  -----  \n",
      " 0   age       866 non-null    float64\n",
      " 1   sex       866 non-null    float64\n",
      " 2   cp        866 non-null    float64\n",
      " 3   trestbps  809 non-null    float64\n",
      " 4   chol      840 non-null    float64\n",
      " 5   fbs       784 non-null    float64\n",
      " 6   restecg   865 non-null    float64\n",
      " 7   thalach   811 non-null    float64\n",
      " 8   exang     811 non-null    float64\n",
      " 9   oldpeak   806 non-null    float64\n",
      " 10  slope     570 non-null    float64\n",
      " 11  ca        297 non-null    float64\n",
      " 12  thal      413 non-null    float64\n",
      " 13  label     866 non-null    int64  \n",
      " 14  split     866 non-null    object \n",
      "dtypes: float64(13), int64(1), object(1)\n",
      "memory usage: 101.6+ KB\n"
     ]
    }
   ],
   "source": [
    "data = pd.read_csv('dataset.csv')\n",
    "data.info()"
   ]
  },
  {
   "cell_type": "markdown",
   "id": "70e22bb3-d1cb-474a-9bde-432b1382ef41",
   "metadata": {},
   "source": [
    "## Data preprocessing"
   ]
  },
  {
   "cell_type": "code",
   "execution_count": 3,
   "id": "850595f8-0ff4-4eae-a5d7-6f648a5d631c",
   "metadata": {
    "tags": []
   },
   "outputs": [
    {
     "name": "stderr",
     "output_type": "stream",
     "text": [
      "/var/folders/bd/k8zyrgxj70j4dkjk7b7twpjh0000gn/T/ipykernel_79437/130228747.py:31: SettingWithCopyWarning: \n",
      "A value is trying to be set on a copy of a slice from a DataFrame\n",
      "\n",
      "See the caveats in the documentation: https://pandas.pydata.org/pandas-docs/stable/user_guide/indexing.html#returning-a-view-versus-a-copy\n",
      "  data[var].loc[data[var] > upper] = upper\n",
      "/var/folders/bd/k8zyrgxj70j4dkjk7b7twpjh0000gn/T/ipykernel_79437/130228747.py:32: SettingWithCopyWarning: \n",
      "A value is trying to be set on a copy of a slice from a DataFrame\n",
      "\n",
      "See the caveats in the documentation: https://pandas.pydata.org/pandas-docs/stable/user_guide/indexing.html#returning-a-view-versus-a-copy\n",
      "  data[var].loc[data[var] < lower] = lower\n"
     ]
    }
   ],
   "source": [
    "\n",
    "# Eliminamos filas duplicadas\n",
    "data = data.drop_duplicates()\n",
    "\n",
    "# Definimos variables categóricas y numéricas\n",
    "categorical_vars = ['sex', 'cp', 'fbs', 'restecg', 'exang', 'slope', 'ca', 'thal']\n",
    "numerical_vars = ['age', 'trestbps', 'chol', 'thalach', 'oldpeak']\n",
    "target = ['label']\n",
    "\n",
    "# Parseamos las variables categóricas como enteros, para eliminar los decimales, y luego las pasamos a string, para que su valor \n",
    "# numérico no influya en el análisis ni en las predicciones\n",
    "data[categorical_vars + target] = data[categorical_vars + target].astype(float).astype('Int64')\n",
    "data[categorical_vars + target] = data[categorical_vars + target].astype(str)\n",
    "# ca = 9 es un oulier, lo clippeamos a 3, que es el valor máximo según las especificaciones\n",
    "data['ca'] = data['ca'].replace('9', '3')\n",
    "\n",
    "# Reemplazamos 0s en chol y trestbps con NAs\n",
    "data[['trestbps', 'chol']] = data[['trestbps', 'chol']].replace(0, np.nan)\n",
    "\n",
    "# Rellenamos los valores numéricos no informados\n",
    "# data[numerical_vars ] = data[numerical_vars].replace(pd.NA, np.nan)\n",
    "imputer = KNNImputer(missing_values=np.nan, n_neighbors=8)\n",
    "data[numerical_vars + target] = imputer.fit_transform(data[numerical_vars + target])\n",
    "\n",
    "# Clippeamos los outliers\n",
    "for var in ['trestbps', 'chol', 'thalach', 'oldpeak']:\n",
    "    tmp_data = data[var][data[var] > 0].dropna()\n",
    "    q1, q3 = np.quantile(tmp_data, 0.25), np.quantile(tmp_data, 0.75)\n",
    "    iqr = q3 - q1\n",
    "    cut_off = iqr * 1.5\n",
    "    lower, upper = q1 - cut_off, q3 + cut_off\n",
    "    data[var].loc[data[var] > upper] = upper\n",
    "    data[var].loc[data[var] < lower] = lower"
   ]
  },
  {
   "cell_type": "code",
   "execution_count": 4,
   "id": "35090782-a4e7-4fb8-9ae3-709cc5b0ac8b",
   "metadata": {},
   "outputs": [],
   "source": [
    "X = data.drop(['label', 'split'], axis=1)\n",
    "y = data['label'].astype(int)"
   ]
  },
  {
   "cell_type": "code",
   "execution_count": 5,
   "id": "c7cde7bc-f7b2-4328-8498-5938d062c14d",
   "metadata": {},
   "outputs": [
    {
     "name": "stdout",
     "output_type": "stream",
     "text": [
      "<class 'pandas.core.frame.DataFrame'>\n",
      "Int64Index: 865 entries, 0 to 865\n",
      "Data columns (total 13 columns):\n",
      " #   Column    Non-Null Count  Dtype  \n",
      "---  ------    --------------  -----  \n",
      " 0   age       865 non-null    float64\n",
      " 1   sex       865 non-null    object \n",
      " 2   cp        865 non-null    object \n",
      " 3   trestbps  865 non-null    float64\n",
      " 4   chol      865 non-null    float64\n",
      " 5   fbs       865 non-null    object \n",
      " 6   restecg   865 non-null    object \n",
      " 7   thalach   865 non-null    float64\n",
      " 8   exang     865 non-null    object \n",
      " 9   oldpeak   865 non-null    float64\n",
      " 10  slope     865 non-null    object \n",
      " 11  ca        865 non-null    object \n",
      " 12  thal      865 non-null    object \n",
      "dtypes: float64(5), object(8)\n",
      "memory usage: 94.6+ KB\n"
     ]
    }
   ],
   "source": [
    "X.info()"
   ]
  },
  {
   "cell_type": "code",
   "execution_count": 6,
   "id": "60174c04-13a2-461e-9f4d-7105e822c089",
   "metadata": {},
   "outputs": [
    {
     "name": "stdout",
     "output_type": "stream",
     "text": [
      "<class 'pandas.core.frame.DataFrame'>\n",
      "Int64Index: 865 entries, 0 to 865\n",
      "Data columns (total 5 columns):\n",
      " #   Column    Non-Null Count  Dtype  \n",
      "---  ------    --------------  -----  \n",
      " 0   age       865 non-null    float64\n",
      " 1   trestbps  865 non-null    float64\n",
      " 2   chol      865 non-null    float64\n",
      " 3   thalach   865 non-null    float64\n",
      " 4   oldpeak   865 non-null    float64\n",
      "dtypes: float64(5)\n",
      "memory usage: 40.5 KB\n"
     ]
    }
   ],
   "source": [
    "# Escalamos los datos numéricos para que se ajusten a una distribución normal\n",
    "X[numerical_vars] = scale(X[numerical_vars])\n",
    "\n",
    "X[numerical_vars].info()"
   ]
  },
  {
   "cell_type": "code",
   "execution_count": 7,
   "id": "5af2b2e0-b36d-4856-95f6-8ca716ffed3d",
   "metadata": {},
   "outputs": [
    {
     "name": "stdout",
     "output_type": "stream",
     "text": [
      "<class 'pandas.core.frame.DataFrame'>\n",
      "RangeIndex: 865 entries, 0 to 864\n",
      "Data columns (total 26 columns):\n",
      " #   Column        Non-Null Count  Dtype  \n",
      "---  ------        --------------  -----  \n",
      " 0   sex_1         865 non-null    float64\n",
      " 1   cp_2          865 non-null    float64\n",
      " 2   cp_3          865 non-null    float64\n",
      " 3   cp_4          865 non-null    float64\n",
      " 4   fbs_1         865 non-null    float64\n",
      " 5   fbs_<NA>      865 non-null    float64\n",
      " 6   restecg_1     865 non-null    float64\n",
      " 7   restecg_2     865 non-null    float64\n",
      " 8   restecg_<NA>  865 non-null    float64\n",
      " 9   exang_1       865 non-null    float64\n",
      " 10  exang_<NA>    865 non-null    float64\n",
      " 11  slope_2       865 non-null    float64\n",
      " 12  slope_3       865 non-null    float64\n",
      " 13  slope_<NA>    865 non-null    float64\n",
      " 14  ca_1          865 non-null    float64\n",
      " 15  ca_2          865 non-null    float64\n",
      " 16  ca_3          865 non-null    float64\n",
      " 17  ca_<NA>       865 non-null    float64\n",
      " 18  thal_6        865 non-null    float64\n",
      " 19  thal_7        865 non-null    float64\n",
      " 20  thal_<NA>     865 non-null    float64\n",
      " 21  age           865 non-null    float64\n",
      " 22  trestbps      865 non-null    float64\n",
      " 23  chol          865 non-null    float64\n",
      " 24  thalach       865 non-null    float64\n",
      " 25  oldpeak       865 non-null    float64\n",
      "dtypes: float64(26)\n",
      "memory usage: 175.8 KB\n"
     ]
    }
   ],
   "source": [
    "# ahora aplicamos OHE a las variables categóricas\n",
    "ohe = OneHotEncoder(drop= 'first', sparse = False)\n",
    "ohe_fit = ohe.fit(X[categorical_vars])\n",
    "X_ohe = pd.DataFrame(ohe.fit_transform(X[categorical_vars]))\n",
    "X_ohe.columns = ohe_fit.get_feature_names_out()\n",
    "\n",
    "X = pd.concat((X_ohe, X[numerical_vars].reset_index()), axis=1)\n",
    "X.set_index('index')\n",
    "X.drop('index', axis=1, inplace=True)\n",
    "X.info()"
   ]
  },
  {
   "cell_type": "code",
   "execution_count": 8,
   "id": "2d5a313d-58b6-4a76-922a-bf063c28dd36",
   "metadata": {},
   "outputs": [
    {
     "data": {
      "text/plain": [
       "{'train': 79.88, 'val': 20.12}"
      ]
     },
     "execution_count": 8,
     "metadata": {},
     "output_type": "execute_result"
    }
   ],
   "source": [
    "counts = data['split'].value_counts()\n",
    "\n",
    "{ n: round(100 * val / sum(counts.values), 2) for n, val in counts.items() }"
   ]
  },
  {
   "cell_type": "code",
   "execution_count": 9,
   "id": "05f73c12-8467-41a0-a4fc-c41f58f3e444",
   "metadata": {},
   "outputs": [
    {
     "name": "stdout",
     "output_type": "stream",
     "text": [
      "0    399\n",
      "1    185\n",
      "3    125\n",
      "2    123\n",
      "4     33\n",
      "Name: label, dtype: int64\n"
     ]
    },
    {
     "data": {
      "text/plain": [
       "{0: 100.0, 1: 46.37, 3: 31.33, 2: 30.83, 4: 8.27}"
      ]
     },
     "execution_count": 9,
     "metadata": {},
     "output_type": "execute_result"
    }
   ],
   "source": [
    "counts = y.value_counts()\n",
    "\n",
    "print(counts) \n",
    "\n",
    "{ n: round(100 * val / counts[0], 2) for n, val in counts.items() }"
   ]
  },
  {
   "cell_type": "code",
   "execution_count": 10,
   "id": "1ccf1af1-d2a5-4f9d-9973-536c437bbb7f",
   "metadata": {},
   "outputs": [],
   "source": [
    "# Como tenemos muy pocos datos de la clase 4, vamos a hacer oversampling para que esté más balanceado, \n",
    "# doblando el número de muestras de esta clase, de 33 a 66\n",
    "\n",
    "sm = SMOTE(sampling_strategy={4: 66}, random_state = 1, k_neighbors = 7)\n",
    "X_sm, y_sm = sm.fit_resample(X, y)"
   ]
  },
  {
   "cell_type": "code",
   "execution_count": 11,
   "id": "b1460007-a558-41b3-a1b1-f6cbdd188b1d",
   "metadata": {},
   "outputs": [
    {
     "data": {
      "text/plain": [
       "{0: 100.0, 1: 46.37, 3: 31.33, 2: 30.83, 4: 16.54}"
      ]
     },
     "execution_count": 11,
     "metadata": {},
     "output_type": "execute_result"
    }
   ],
   "source": [
    "counts = y_sm.value_counts()\n",
    "\n",
    "{ n: round(100 * val / counts[0], 2) for n, val in counts.items() }"
   ]
  },
  {
   "cell_type": "markdown",
   "id": "b0835322-c335-484a-8ef3-b4fa4872d62e",
   "metadata": {},
   "source": [
    "## Test dataset"
   ]
  },
  {
   "cell_type": "markdown",
   "id": "073f8fd1-8e75-4059-8807-8e855d1fb8eb",
   "metadata": {},
   "source": [
    "Tenemos que aplicar las mismas transformaciones al test dataset"
   ]
  },
  {
   "cell_type": "code",
   "execution_count": 12,
   "id": "e6270589-109f-4559-b3dc-84fdd6f27c73",
   "metadata": {},
   "outputs": [
    {
     "name": "stdout",
     "output_type": "stream",
     "text": [
      "<class 'pandas.core.frame.DataFrame'>\n",
      "RangeIndex: 50 entries, 0 to 49\n",
      "Data columns (total 13 columns):\n",
      " #   Column    Non-Null Count  Dtype  \n",
      "---  ------    --------------  -----  \n",
      " 0   age       50 non-null     float64\n",
      " 1   sex       50 non-null     float64\n",
      " 2   cp        50 non-null     float64\n",
      " 3   trestbps  48 non-null     float64\n",
      " 4   chol      46 non-null     float64\n",
      " 5   fbs       43 non-null     float64\n",
      " 6   restecg   49 non-null     float64\n",
      " 7   thalach   50 non-null     float64\n",
      " 8   exang     50 non-null     float64\n",
      " 9   oldpeak   48 non-null     float64\n",
      " 10  slope     38 non-null     float64\n",
      " 11  ca        12 non-null     float64\n",
      " 12  thal      20 non-null     float64\n",
      "dtypes: float64(13)\n",
      "memory usage: 5.2 KB\n"
     ]
    }
   ],
   "source": [
    "X_test = pd.read_csv('test_dataset.csv')\n",
    "X_test.info()"
   ]
  },
  {
   "cell_type": "code",
   "execution_count": 13,
   "id": "57b83d3a-5598-4c61-bef9-9c931331558a",
   "metadata": {},
   "outputs": [
    {
     "name": "stderr",
     "output_type": "stream",
     "text": [
      "/var/folders/bd/k8zyrgxj70j4dkjk7b7twpjh0000gn/T/ipykernel_79437/2697972118.py:21: SettingWithCopyWarning: \n",
      "A value is trying to be set on a copy of a slice from a DataFrame\n",
      "\n",
      "See the caveats in the documentation: https://pandas.pydata.org/pandas-docs/stable/user_guide/indexing.html#returning-a-view-versus-a-copy\n",
      "  X_test[var].loc[X_test[var] > upper] = upper\n",
      "/var/folders/bd/k8zyrgxj70j4dkjk7b7twpjh0000gn/T/ipykernel_79437/2697972118.py:22: SettingWithCopyWarning: \n",
      "A value is trying to be set on a copy of a slice from a DataFrame\n",
      "\n",
      "See the caveats in the documentation: https://pandas.pydata.org/pandas-docs/stable/user_guide/indexing.html#returning-a-view-versus-a-copy\n",
      "  X_test[var].loc[X_test[var] < lower] = lower\n"
     ]
    }
   ],
   "source": [
    "# Parseamos las variables categóricas como enteros, para eliminar los decimales, y luego las pasamos a string, para que su valor \n",
    "# numérico no influya en el análisis ni en las predicciones\n",
    "X_test[categorical_vars] = X_test[categorical_vars].astype(float).astype('Int64')\n",
    "X_test[categorical_vars] = X_test[categorical_vars].astype(str)\n",
    "\n",
    "# Reemplazamos 0s en chol y trestbps con NAs\n",
    "X_test[['trestbps', 'chol']] = X_test[['trestbps', 'chol']].replace(0, np.nan)\n",
    "\n",
    "# Rellenamos los valores numéricos no informados\n",
    "X_test[numerical_vars] = X_test[numerical_vars].replace(pd.NA, np.nan)\n",
    "imputer = KNNImputer(missing_values=np.nan, n_neighbors=8)\n",
    "X_test[numerical_vars] = imputer.fit_transform(X_test[numerical_vars])\n",
    "\n",
    "# Clippeamos los outliers\n",
    "for var in ['trestbps', 'chol', 'thalach', 'oldpeak']:\n",
    "    tmp_data = X_test[var][X_test[var] > 0].dropna()\n",
    "    q1, q3 = np.quantile(tmp_data, 0.25), np.quantile(tmp_data, 0.75)\n",
    "    iqr = q3 - q1\n",
    "    cut_off = iqr * 1.5\n",
    "    lower, upper = q1 - cut_off, q3 + cut_off\n",
    "    X_test[var].loc[X_test[var] > upper] = upper\n",
    "    X_test[var].loc[X_test[var] < lower] = lower"
   ]
  },
  {
   "cell_type": "code",
   "execution_count": 14,
   "id": "268c287c-ced1-4d37-b3b8-306fa6b1b518",
   "metadata": {},
   "outputs": [
    {
     "name": "stdout",
     "output_type": "stream",
     "text": [
      "<class 'pandas.core.frame.DataFrame'>\n",
      "RangeIndex: 50 entries, 0 to 49\n",
      "Data columns (total 26 columns):\n",
      " #   Column        Non-Null Count  Dtype  \n",
      "---  ------        --------------  -----  \n",
      " 0   sex_1         50 non-null     float64\n",
      " 1   cp_2          50 non-null     float64\n",
      " 2   cp_3          50 non-null     float64\n",
      " 3   cp_4          50 non-null     float64\n",
      " 4   fbs_1         50 non-null     float64\n",
      " 5   fbs_<NA>      50 non-null     float64\n",
      " 6   restecg_1     50 non-null     float64\n",
      " 7   restecg_2     50 non-null     float64\n",
      " 8   restecg_<NA>  50 non-null     float64\n",
      " 9   exang_1       50 non-null     float64\n",
      " 10  slope_2       50 non-null     float64\n",
      " 11  slope_3       50 non-null     float64\n",
      " 12  slope_<NA>    50 non-null     float64\n",
      " 13  ca_1          50 non-null     float64\n",
      " 14  ca_2          50 non-null     float64\n",
      " 15  ca_3          50 non-null     float64\n",
      " 16  ca_<NA>       50 non-null     float64\n",
      " 17  thal_6        50 non-null     float64\n",
      " 18  thal_7        50 non-null     float64\n",
      " 19  thal_<NA>     50 non-null     float64\n",
      " 20  index         50 non-null     int64  \n",
      " 21  age           50 non-null     float64\n",
      " 22  trestbps      50 non-null     float64\n",
      " 23  chol          50 non-null     float64\n",
      " 24  thalach       50 non-null     float64\n",
      " 25  oldpeak       50 non-null     float64\n",
      "dtypes: float64(25), int64(1)\n",
      "memory usage: 10.3 KB\n"
     ]
    }
   ],
   "source": [
    "X_test[numerical_vars] = scale(X_test[numerical_vars])\n",
    "\n",
    "ohe = OneHotEncoder(drop= 'first', sparse = False)\n",
    "ohe_fit = ohe.fit(X_test[categorical_vars])\n",
    "X_test_ohe = pd.DataFrame(ohe.fit_transform(X_test[categorical_vars]))\n",
    "X_test_ohe.columns = ohe_fit.get_feature_names_out()\n",
    "\n",
    "X_test = pd.concat((X_test_ohe, X_test[numerical_vars].reset_index()), axis=1)\n",
    "X_test.set_index('index')\n",
    "X_test.info()"
   ]
  },
  {
   "cell_type": "code",
   "execution_count": 15,
   "id": "e11b8175-1c37-41d4-9e83-15336d64e4c7",
   "metadata": {},
   "outputs": [
    {
     "name": "stdout",
     "output_type": "stream",
     "text": [
      "<class 'pandas.core.frame.DataFrame'>\n",
      "RangeIndex: 50 entries, 0 to 49\n",
      "Data columns (total 25 columns):\n",
      " #   Column        Non-Null Count  Dtype  \n",
      "---  ------        --------------  -----  \n",
      " 0   sex_1         50 non-null     float64\n",
      " 1   cp_2          50 non-null     float64\n",
      " 2   cp_3          50 non-null     float64\n",
      " 3   cp_4          50 non-null     float64\n",
      " 4   fbs_1         50 non-null     float64\n",
      " 5   fbs_<NA>      50 non-null     float64\n",
      " 6   restecg_1     50 non-null     float64\n",
      " 7   restecg_2     50 non-null     float64\n",
      " 8   restecg_<NA>  50 non-null     float64\n",
      " 9   exang_1       50 non-null     float64\n",
      " 10  slope_2       50 non-null     float64\n",
      " 11  slope_3       50 non-null     float64\n",
      " 12  slope_<NA>    50 non-null     float64\n",
      " 13  ca_1          50 non-null     float64\n",
      " 14  ca_2          50 non-null     float64\n",
      " 15  ca_3          50 non-null     float64\n",
      " 16  ca_<NA>       50 non-null     float64\n",
      " 17  thal_6        50 non-null     float64\n",
      " 18  thal_7        50 non-null     float64\n",
      " 19  thal_<NA>     50 non-null     float64\n",
      " 20  age           50 non-null     float64\n",
      " 21  trestbps      50 non-null     float64\n",
      " 22  chol          50 non-null     float64\n",
      " 23  thalach       50 non-null     float64\n",
      " 24  oldpeak       50 non-null     float64\n",
      "dtypes: float64(25)\n",
      "memory usage: 9.9 KB\n"
     ]
    }
   ],
   "source": [
    "X_test.drop('index', axis=1, inplace=True)\n",
    "X_test.info()"
   ]
  },
  {
   "cell_type": "code",
   "execution_count": 16,
   "id": "ee6eb58d-6cde-4ce1-bfde-82d22e2e44e1",
   "metadata": {},
   "outputs": [],
   "source": [
    "X_test['exang_<NA>'] = 0"
   ]
  },
  {
   "cell_type": "markdown",
   "id": "ffe97830-3d4c-4ec8-ba38-e4103a8f4204",
   "metadata": {
    "tags": []
   },
   "source": [
    "## Selección de modelo"
   ]
  },
  {
   "cell_type": "markdown",
   "id": "4832a35e-6b38-4e90-98ea-5cf3fc07169f",
   "metadata": {},
   "source": [
    "**1. Random forest**"
   ]
  },
  {
   "cell_type": "code",
   "execution_count": 17,
   "id": "4d43b58c-0c0e-4770-8e7f-1e1481e11d3c",
   "metadata": {},
   "outputs": [],
   "source": [
    "from sklearn.model_selection import GridSearchCV\n",
    "from sklearn.ensemble import RandomForestClassifier as RFC"
   ]
  },
  {
   "cell_type": "code",
   "execution_count": 43,
   "id": "91d3bc26-76ea-47f4-b22f-836ea8d6c84d",
   "metadata": {},
   "outputs": [],
   "source": [
    "model_rf = RFC(random_state = 1, \n",
    "               class_weight = {0: 1, 1: 2, 2: 2, 3: 2, 4: 2})"
   ]
  },
  {
   "cell_type": "code",
   "execution_count": 44,
   "id": "d5499f3e-b428-40ef-99a8-979398a1e21e",
   "metadata": {},
   "outputs": [],
   "source": [
    "params = {\n",
    "'criterion': ['entropy', 'gini'],\n",
    "'min_samples_leaf': [2, 3, 5, ], \n",
    "'min_samples_split': [2, 3, 5],\n",
    "'max_depth': [5, 7, 10],\n",
    "'max_features': [7, 15, 20],\n",
    "'n_estimators': [25, 50, 75]\n",
    "}"
   ]
  },
  {
   "cell_type": "code",
   "execution_count": 45,
   "id": "8cb2ef22-b9f0-4d12-bcb0-fb0bb20fd5f2",
   "metadata": {},
   "outputs": [
    {
     "name": "stdout",
     "output_type": "stream",
     "text": [
      "Best params : {'criterion': 'entropy', 'max_depth': 10, 'max_features': 7, 'min_samples_leaf': 2, 'min_samples_split': 5, 'n_estimators': 75}\n",
      "Best score: 0.5646182495344507\n"
     ]
    }
   ],
   "source": [
    "grid = GridSearchCV(estimator=model_rf, \n",
    "                    param_grid=params, \n",
    "                    scoring='f1_micro',\n",
    "                    cv=5, \n",
    "                    n_jobs = 8)\n",
    "grid.fit(X_sm, y_sm)\n",
    "print(f'Best params : {grid.best_params_}')\n",
    "print(f'Best score: {grid.best_score_}')"
   ]
  },
  {
   "cell_type": "code",
   "execution_count": 39,
   "id": "e5044dbe-bfa6-4379-ad93-75d1549fab2a",
   "metadata": {},
   "outputs": [],
   "source": [
    "params = {\n",
    "'criterion': ['entropy', 'gini'],\n",
    "'min_samples_leaf': [2, 3], \n",
    "'min_samples_split': [4, 5, 7],\n",
    "'max_depth': [9, 10, 11],\n",
    "'max_features': [6, 7, 8],\n",
    "'n_estimators': [25, 50, 75]\n",
    "}"
   ]
  },
  {
   "cell_type": "code",
   "execution_count": 40,
   "id": "0f410809-9058-4f65-90ae-9ca07e53cee3",
   "metadata": {},
   "outputs": [
    {
     "name": "stdout",
     "output_type": "stream",
     "text": [
      "Best params : {'criterion': 'entropy', 'max_depth': 9, 'max_features': 6, 'min_samples_leaf': 2, 'min_samples_split': 4, 'n_estimators': 25}\n",
      "Best score: 0.5824084419615146\n"
     ]
    }
   ],
   "source": [
    "grid = GridSearchCV(estimator=model_rf, \n",
    "                    param_grid=params, \n",
    "                    scoring='f1_micro',\n",
    "                    cv=5, \n",
    "                    n_jobs = 8)\n",
    "grid.fit(X_sm, y_sm)\n",
    "print(f'Best params : {grid.best_params_}')\n",
    "print(f'Best score: {grid.best_score_}')"
   ]
  },
  {
   "cell_type": "code",
   "execution_count": 46,
   "id": "d158ce62-f8c3-438f-9aa6-e9ab30b6e088",
   "metadata": {},
   "outputs": [
    {
     "name": "stdout",
     "output_type": "stream",
     "text": [
      "F1 score: 0.8407572383073497\n"
     ]
    }
   ],
   "source": [
    "best_config = grid.best_params_\n",
    "\n",
    "model_rf = RFC(criterion = best_config['criterion'], \n",
    "               min_samples_leaf = best_config['min_samples_leaf'],\n",
    "               min_samples_split = best_config['min_samples_split'],\n",
    "               max_depth = best_config['max_depth'],\n",
    "               max_features = best_config['max_features'],\n",
    "               n_estimators = best_config['max_features'], \n",
    "               class_weight = {0:1, 1: 2, 2: 2, 3: 2, 4: 2}, # best_config['weight']\n",
    "               n_jobs = 7,\n",
    "               random_state = 1)\n",
    "\n",
    "model_rf.fit(X_sm, y_sm)\n",
    "\n",
    "pred_y = model_rf.predict(X_sm) \n",
    "\n",
    "print(f\"F1 score: {f1_score(y_sm, pred_y, average='micro')}\")"
   ]
  },
  {
   "cell_type": "code",
   "execution_count": null,
   "id": "ed9ae968-dc75-4df1-b03a-f488c5bed99a",
   "metadata": {},
   "outputs": [],
   "source": [
    "pred_y_test = model_rf.predict(X_test[X_sm.columns.to_list()])"
   ]
  },
  {
   "cell_type": "code",
   "execution_count": null,
   "id": "dd8bb636-9d3d-43cc-9cfa-5b921413022b",
   "metadata": {},
   "outputs": [],
   "source": [
    "pred_df = pd.DataFrame({'ID': X_test.index.values, 'label': pred_y_test.astype(int)})\n",
    "\n",
    "pred_df.head()\n"
   ]
  },
  {
   "cell_type": "code",
   "execution_count": null,
   "id": "f6d87a65-6480-4736-83b2-a8300c0081c4",
   "metadata": {},
   "outputs": [],
   "source": [
    "pred_df.to_csv('submission.csv', index=False)"
   ]
  },
  {
   "cell_type": "code",
   "execution_count": null,
   "id": "5ba26733-5501-46e8-8ca0-3599afe1ec41",
   "metadata": {},
   "outputs": [],
   "source": []
  },
  {
   "cell_type": "code",
   "execution_count": null,
   "id": "aa9e92e1-eb4f-40c2-834d-9e5be9cbb338",
   "metadata": {},
   "outputs": [],
   "source": [
    "# Best params : {'criterion': 'entropy', 'max_depth': 10, 'max_features': 21, 'min_samples_leaf': 2, 'min_samples_split': 2, 'n_estimators': 50}\n",
    "# Best score: 0.5601551831160769"
   ]
  },
  {
   "cell_type": "code",
   "execution_count": null,
   "id": "34c3cbf6-c803-46cc-8ce7-010d5dcbcb70",
   "metadata": {},
   "outputs": [],
   "source": []
  }
 ],
 "metadata": {
  "kernelspec": {
   "display_name": "Python 3 (ipykernel)",
   "language": "python",
   "name": "python3"
  },
  "language_info": {
   "codemirror_mode": {
    "name": "ipython",
    "version": 3
   },
   "file_extension": ".py",
   "mimetype": "text/x-python",
   "name": "python",
   "nbconvert_exporter": "python",
   "pygments_lexer": "ipython3",
   "version": "3.9.7"
  }
 },
 "nbformat": 4,
 "nbformat_minor": 5
}
