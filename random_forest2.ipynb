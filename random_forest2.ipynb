{
 "cells": [
  {
   "cell_type": "code",
   "execution_count": 3,
   "id": "927fc4f1-c2df-4702-af6d-6fdcd002b8bf",
   "metadata": {},
   "outputs": [],
   "source": [
    "%matplotlib inline\n",
    "import numpy as np\n",
    "import matplotlib.pyplot as plt\n",
    "import pandas as pd \n",
    "from sklearn.impute import KNNImputer\n",
    "from sklearn.preprocessing import scale\n",
    "from sklearn.preprocessing import OneHotEncoder\n",
    "from imblearn.over_sampling import SMOTE\n",
    "from sklearn.metrics import confusion_matrix, ConfusionMatrixDisplay\n",
    "from sklearn.metrics import roc_auc_score, f1_score"
   ]
  },
  {
   "cell_type": "code",
   "execution_count": 140,
   "id": "ca8e84ad-db4b-4bea-bdcc-f33571365586",
   "metadata": {},
   "outputs": [
    {
     "name": "stdout",
     "output_type": "stream",
     "text": [
      "<class 'pandas.core.frame.DataFrame'>\n",
      "RangeIndex: 866 entries, 0 to 865\n",
      "Data columns (total 15 columns):\n",
      " #   Column    Non-Null Count  Dtype  \n",
      "---  ------    --------------  -----  \n",
      " 0   age       866 non-null    float64\n",
      " 1   sex       866 non-null    float64\n",
      " 2   cp        866 non-null    float64\n",
      " 3   trestbps  809 non-null    float64\n",
      " 4   chol      840 non-null    float64\n",
      " 5   fbs       784 non-null    float64\n",
      " 6   restecg   865 non-null    float64\n",
      " 7   thalach   811 non-null    float64\n",
      " 8   exang     811 non-null    float64\n",
      " 9   oldpeak   806 non-null    float64\n",
      " 10  slope     570 non-null    float64\n",
      " 11  ca        297 non-null    float64\n",
      " 12  thal      413 non-null    float64\n",
      " 13  label     866 non-null    int64  \n",
      " 14  split     866 non-null    object \n",
      "dtypes: float64(13), int64(1), object(1)\n",
      "memory usage: 101.6+ KB\n"
     ]
    }
   ],
   "source": [
    "data = pd.read_csv('../dataset.csv')\n",
    "data.info()"
   ]
  },
  {
   "cell_type": "code",
   "execution_count": 141,
   "id": "8d34376a-cc84-4443-a370-0806e35538c2",
   "metadata": {},
   "outputs": [],
   "source": [
    "data = data.drop_duplicates()\n",
    "X = data.drop(['label'], axis=1)\n",
    "y_train = data['label'].astype(int)"
   ]
  },
  {
   "cell_type": "code",
   "execution_count": 142,
   "id": "0719114f-42f8-4266-ae70-a605bc07169d",
   "metadata": {},
   "outputs": [
    {
     "name": "stdout",
     "output_type": "stream",
     "text": [
      "<class 'pandas.core.frame.DataFrame'>\n",
      "RangeIndex: 50 entries, 0 to 49\n",
      "Data columns (total 14 columns):\n",
      " #   Column    Non-Null Count  Dtype  \n",
      "---  ------    --------------  -----  \n",
      " 0   age       50 non-null     float64\n",
      " 1   sex       50 non-null     float64\n",
      " 2   cp        50 non-null     float64\n",
      " 3   trestbps  48 non-null     float64\n",
      " 4   chol      46 non-null     float64\n",
      " 5   fbs       43 non-null     float64\n",
      " 6   restecg   49 non-null     float64\n",
      " 7   thalach   50 non-null     float64\n",
      " 8   exang     50 non-null     float64\n",
      " 9   oldpeak   48 non-null     float64\n",
      " 10  slope     38 non-null     float64\n",
      " 11  ca        12 non-null     float64\n",
      " 12  thal      20 non-null     float64\n",
      " 13  split     50 non-null     object \n",
      "dtypes: float64(13), object(1)\n",
      "memory usage: 5.6+ KB\n"
     ]
    }
   ],
   "source": [
    "X_test = pd.read_csv('../test_dataset.csv')\n",
    "X_test['split'] = 'test'\n",
    "X_test.info()"
   ]
  },
  {
   "cell_type": "code",
   "execution_count": 143,
   "id": "d229def9-4004-40a3-95cb-b5f17f982ed5",
   "metadata": {},
   "outputs": [
    {
     "name": "stdout",
     "output_type": "stream",
     "text": [
      "<class 'pandas.core.frame.DataFrame'>\n",
      "Int64Index: 915 entries, 0 to 865\n",
      "Data columns (total 14 columns):\n",
      " #   Column    Non-Null Count  Dtype  \n",
      "---  ------    --------------  -----  \n",
      " 0   age       915 non-null    float64\n",
      " 1   sex       915 non-null    float64\n",
      " 2   cp        915 non-null    float64\n",
      " 3   trestbps  856 non-null    float64\n",
      " 4   chol      885 non-null    float64\n",
      " 5   fbs       826 non-null    float64\n",
      " 6   restecg   913 non-null    float64\n",
      " 7   thalach   860 non-null    float64\n",
      " 8   exang     860 non-null    float64\n",
      " 9   oldpeak   853 non-null    float64\n",
      " 10  slope     608 non-null    float64\n",
      " 11  ca        309 non-null    float64\n",
      " 12  thal      433 non-null    float64\n",
      " 13  split     915 non-null    object \n",
      "dtypes: float64(13), object(1)\n",
      "memory usage: 107.2+ KB\n"
     ]
    }
   ],
   "source": [
    "X = pd.concat([X_test, X], axis=0)\n",
    "X.info()"
   ]
  },
  {
   "cell_type": "markdown",
   "id": "70e22bb3-d1cb-474a-9bde-432b1382ef41",
   "metadata": {},
   "source": [
    "## Data preprocessing"
   ]
  },
  {
   "cell_type": "code",
   "execution_count": 144,
   "id": "e6035ad3-7bb4-4952-8fad-6d4a6efad1c4",
   "metadata": {},
   "outputs": [],
   "source": [
    "# Definimos variables categóricas y numéricas\n",
    "categorical_vars = ['sex', 'cp', 'fbs', 'restecg', 'exang', 'slope', 'ca', 'thal']\n",
    "numerical_vars = ['age', 'trestbps', 'chol', 'thalach', 'oldpeak']\n",
    "target = ['label']\n",
    "    \n",
    "def data_preprocessing(df, categorical_vars, numerical_vars):\n",
    "    data = df.copy()\n",
    "    # Eliminamos filas duplicadas\n",
    "    data = data.drop_duplicates()\n",
    "\n",
    "    # data[categorical_vars] = data[categorical_vars].astype(float).astype('Int64')\n",
    "    # luego las pasamos a string, para que su valor \n",
    "    # numérico no influya en el análisis ni en las predicciones\n",
    "    # data[categorical_vars + target] = data[categorical_vars + target].astype(str)\n",
    "    # ca = 9 es un oulier, lo clippeamos a 3, que es el valor máximo según las especificaciones\n",
    "    data['ca'] = data['ca'].replace(9.0, 3)\n",
    "\n",
    "    # Reemplazamos 0s en chol y trestbps con NAs\n",
    "    data[['trestbps', 'chol']] = data[['trestbps', 'chol']].replace(0, np.nan)\n",
    "\n",
    "    # Rellenamos los valores numéricos no informados\n",
    "    data = data.replace(pd.NA, np.nan)\n",
    "    data[categorical_vars] = data[categorical_vars].replace(np.nan, -1)\n",
    "    imputer = KNNImputer(missing_values=np.nan, n_neighbors=11)\n",
    "    data[numerical_vars + categorical_vars] = imputer.fit_transform(data[numerical_vars + categorical_vars])\n",
    "    # data[numerical_vars] = imputer.fit_transform(data[numerical_vars])\n",
    "\n",
    "    # Clippeamos los outliers\n",
    "    for var in ['trestbps', 'chol', 'thalach', 'oldpeak']:\n",
    "        tmp_data = data[var][data[var] > 0].dropna()\n",
    "        data.loc[data[var].isna(), var] = np.quantile(tmp_data, 0.5)\n",
    "        q1, q3 = np.quantile(tmp_data, 0.25), np.quantile(tmp_data, 0.75)\n",
    "        iqr = q3 - q1\n",
    "        cut_off = iqr * 1.5\n",
    "        lower, upper = q1 - cut_off, q3 + cut_off\n",
    "        data.loc[data[var] > upper, var] = upper\n",
    "        data.loc[data[var] < lower, var] = lower\n",
    "        \n",
    "    # Parseamos las variables categóricas como enteros, para eliminar los decimales\n",
    "    data[categorical_vars] = data[categorical_vars].astype(float).astype('Int64')\n",
    "    return data"
   ]
  },
  {
   "cell_type": "code",
   "execution_count": 145,
   "id": "850595f8-0ff4-4eae-a5d7-6f648a5d631c",
   "metadata": {
    "tags": []
   },
   "outputs": [],
   "source": [
    "X = data_preprocessing(X, categorical_vars, numerical_vars)"
   ]
  },
  {
   "cell_type": "code",
   "execution_count": 146,
   "id": "5cd80d74-9dc5-4934-8702-d12b9d91cc26",
   "metadata": {},
   "outputs": [
    {
     "data": {
      "text/html": [
       "<div>\n",
       "<style scoped>\n",
       "    .dataframe tbody tr th:only-of-type {\n",
       "        vertical-align: middle;\n",
       "    }\n",
       "\n",
       "    .dataframe tbody tr th {\n",
       "        vertical-align: top;\n",
       "    }\n",
       "\n",
       "    .dataframe thead th {\n",
       "        text-align: right;\n",
       "    }\n",
       "</style>\n",
       "<table border=\"1\" class=\"dataframe\">\n",
       "  <thead>\n",
       "    <tr style=\"text-align: right;\">\n",
       "      <th></th>\n",
       "      <th>age</th>\n",
       "      <th>sex</th>\n",
       "      <th>cp</th>\n",
       "      <th>trestbps</th>\n",
       "      <th>chol</th>\n",
       "      <th>fbs</th>\n",
       "      <th>restecg</th>\n",
       "      <th>thalach</th>\n",
       "      <th>exang</th>\n",
       "      <th>oldpeak</th>\n",
       "      <th>slope</th>\n",
       "      <th>ca</th>\n",
       "      <th>thal</th>\n",
       "      <th>split</th>\n",
       "    </tr>\n",
       "  </thead>\n",
       "  <tbody>\n",
       "    <tr>\n",
       "      <th>Zero values - total</th>\n",
       "      <td>0</td>\n",
       "      <td>194</td>\n",
       "      <td>0</td>\n",
       "      <td>0</td>\n",
       "      <td>0</td>\n",
       "      <td>689</td>\n",
       "      <td>549</td>\n",
       "      <td>0</td>\n",
       "      <td>525</td>\n",
       "      <td>368</td>\n",
       "      <td>0</td>\n",
       "      <td>180</td>\n",
       "      <td>0</td>\n",
       "      <td>0</td>\n",
       "    </tr>\n",
       "  </tbody>\n",
       "</table>\n",
       "</div>"
      ],
      "text/plain": [
       "                     age  sex  cp  trestbps  chol  fbs  restecg  thalach  \\\n",
       "Zero values - total    0  194   0         0     0  689      549        0   \n",
       "\n",
       "                     exang  oldpeak  slope   ca  thal  split  \n",
       "Zero values - total    525      368      0  180     0      0  "
      ]
     },
     "execution_count": 146,
     "metadata": {},
     "output_type": "execute_result"
    }
   ],
   "source": [
    "pd.DataFrame(X.eq(0).sum().to_dict(), index=[f\"Zero values - total\"])\n"
   ]
  },
  {
   "cell_type": "code",
   "execution_count": 147,
   "id": "6cc44843-ec3d-4739-a60f-1fe545f733b8",
   "metadata": {},
   "outputs": [
    {
     "data": {
      "text/html": [
       "<div>\n",
       "<style scoped>\n",
       "    .dataframe tbody tr th:only-of-type {\n",
       "        vertical-align: middle;\n",
       "    }\n",
       "\n",
       "    .dataframe tbody tr th {\n",
       "        vertical-align: top;\n",
       "    }\n",
       "\n",
       "    .dataframe thead th {\n",
       "        text-align: right;\n",
       "    }\n",
       "</style>\n",
       "<table border=\"1\" class=\"dataframe\">\n",
       "  <thead>\n",
       "    <tr style=\"text-align: right;\">\n",
       "      <th></th>\n",
       "      <th>age</th>\n",
       "      <th>sex</th>\n",
       "      <th>cp</th>\n",
       "      <th>trestbps</th>\n",
       "      <th>chol</th>\n",
       "      <th>fbs</th>\n",
       "      <th>restecg</th>\n",
       "      <th>thalach</th>\n",
       "      <th>exang</th>\n",
       "      <th>oldpeak</th>\n",
       "      <th>slope</th>\n",
       "      <th>ca</th>\n",
       "      <th>thal</th>\n",
       "      <th>split</th>\n",
       "    </tr>\n",
       "  </thead>\n",
       "  <tbody>\n",
       "    <tr>\n",
       "      <th>Missing values - total</th>\n",
       "      <td>0</td>\n",
       "      <td>0</td>\n",
       "      <td>0</td>\n",
       "      <td>0</td>\n",
       "      <td>0</td>\n",
       "      <td>0</td>\n",
       "      <td>0</td>\n",
       "      <td>0</td>\n",
       "      <td>0</td>\n",
       "      <td>0</td>\n",
       "      <td>0</td>\n",
       "      <td>0</td>\n",
       "      <td>0</td>\n",
       "      <td>0</td>\n",
       "    </tr>\n",
       "  </tbody>\n",
       "</table>\n",
       "</div>"
      ],
      "text/plain": [
       "                        age  sex  cp  trestbps  chol  fbs  restecg  thalach  \\\n",
       "Missing values - total    0    0   0         0     0    0        0        0   \n",
       "\n",
       "                        exang  oldpeak  slope  ca  thal  split  \n",
       "Missing values - total      0        0      0   0     0      0  "
      ]
     },
     "execution_count": 147,
     "metadata": {},
     "output_type": "execute_result"
    }
   ],
   "source": [
    "pd.DataFrame(X.isna().sum().to_dict(), index=[f\"Missing values - total\"])"
   ]
  },
  {
   "cell_type": "code",
   "execution_count": 148,
   "id": "6ae31127-54f0-4f01-8772-51b964a9226e",
   "metadata": {},
   "outputs": [],
   "source": [
    "X[categorical_vars] = X[categorical_vars].astype(int)"
   ]
  },
  {
   "cell_type": "code",
   "execution_count": 149,
   "id": "c7cde7bc-f7b2-4328-8498-5938d062c14d",
   "metadata": {},
   "outputs": [
    {
     "name": "stdout",
     "output_type": "stream",
     "text": [
      "<class 'pandas.core.frame.DataFrame'>\n",
      "Int64Index: 915 entries, 0 to 865\n",
      "Data columns (total 14 columns):\n",
      " #   Column    Non-Null Count  Dtype  \n",
      "---  ------    --------------  -----  \n",
      " 0   age       915 non-null    float64\n",
      " 1   sex       915 non-null    int64  \n",
      " 2   cp        915 non-null    int64  \n",
      " 3   trestbps  915 non-null    float64\n",
      " 4   chol      915 non-null    float64\n",
      " 5   fbs       915 non-null    int64  \n",
      " 6   restecg   915 non-null    int64  \n",
      " 7   thalach   915 non-null    float64\n",
      " 8   exang     915 non-null    int64  \n",
      " 9   oldpeak   915 non-null    float64\n",
      " 10  slope     915 non-null    int64  \n",
      " 11  ca        915 non-null    int64  \n",
      " 12  thal      915 non-null    int64  \n",
      " 13  split     915 non-null    object \n",
      "dtypes: float64(5), int64(8), object(1)\n",
      "memory usage: 107.2+ KB\n"
     ]
    }
   ],
   "source": [
    "X.info()"
   ]
  },
  {
   "cell_type": "code",
   "execution_count": 150,
   "id": "60174c04-13a2-461e-9f4d-7105e822c089",
   "metadata": {},
   "outputs": [
    {
     "data": {
      "text/html": [
       "<div>\n",
       "<style scoped>\n",
       "    .dataframe tbody tr th:only-of-type {\n",
       "        vertical-align: middle;\n",
       "    }\n",
       "\n",
       "    .dataframe tbody tr th {\n",
       "        vertical-align: top;\n",
       "    }\n",
       "\n",
       "    .dataframe thead th {\n",
       "        text-align: right;\n",
       "    }\n",
       "</style>\n",
       "<table border=\"1\" class=\"dataframe\">\n",
       "  <thead>\n",
       "    <tr style=\"text-align: right;\">\n",
       "      <th></th>\n",
       "      <th>age</th>\n",
       "      <th>trestbps</th>\n",
       "      <th>chol</th>\n",
       "      <th>thalach</th>\n",
       "      <th>oldpeak</th>\n",
       "    </tr>\n",
       "  </thead>\n",
       "  <tbody>\n",
       "    <tr>\n",
       "      <th>count</th>\n",
       "      <td>9.150000e+02</td>\n",
       "      <td>9.150000e+02</td>\n",
       "      <td>9.150000e+02</td>\n",
       "      <td>9.150000e+02</td>\n",
       "      <td>9.150000e+02</td>\n",
       "    </tr>\n",
       "    <tr>\n",
       "      <th>mean</th>\n",
       "      <td>3.570914e-16</td>\n",
       "      <td>2.725203e-16</td>\n",
       "      <td>1.613615e-16</td>\n",
       "      <td>-3.388910e-16</td>\n",
       "      <td>1.316494e-16</td>\n",
       "    </tr>\n",
       "    <tr>\n",
       "      <th>std</th>\n",
       "      <td>1.000547e+00</td>\n",
       "      <td>1.000547e+00</td>\n",
       "      <td>1.000547e+00</td>\n",
       "      <td>1.000547e+00</td>\n",
       "      <td>1.000547e+00</td>\n",
       "    </tr>\n",
       "    <tr>\n",
       "      <th>min</th>\n",
       "      <td>-2.716360e+00</td>\n",
       "      <td>-2.478595e+00</td>\n",
       "      <td>-2.447462e+00</td>\n",
       "      <td>-2.801991e+00</td>\n",
       "      <td>-1.371364e+00</td>\n",
       "    </tr>\n",
       "    <tr>\n",
       "      <th>25%</th>\n",
       "      <td>-6.942689e-01</td>\n",
       "      <td>-7.030331e-01</td>\n",
       "      <td>-6.471458e-01</td>\n",
       "      <td>-6.691562e-01</td>\n",
       "      <td>-8.698826e-01</td>\n",
       "    </tr>\n",
       "    <tr>\n",
       "      <th>50%</th>\n",
       "      <td>5.071222e-02</td>\n",
       "      <td>-1.111792e-01</td>\n",
       "      <td>-5.836304e-02</td>\n",
       "      <td>4.178866e-02</td>\n",
       "      <td>-3.684009e-01</td>\n",
       "    </tr>\n",
       "    <tr>\n",
       "      <th>75%</th>\n",
       "      <td>6.892674e-01</td>\n",
       "      <td>4.806748e-01</td>\n",
       "      <td>5.530652e-01</td>\n",
       "      <td>7.527335e-01</td>\n",
       "      <td>6.345624e-01</td>\n",
       "    </tr>\n",
       "    <tr>\n",
       "      <th>max</th>\n",
       "      <td>2.498507e+00</td>\n",
       "      <td>2.256236e+00</td>\n",
       "      <td>2.353382e+00</td>\n",
       "      <td>2.569593e+00</td>\n",
       "      <td>2.640489e+00</td>\n",
       "    </tr>\n",
       "  </tbody>\n",
       "</table>\n",
       "</div>"
      ],
      "text/plain": [
       "                age      trestbps          chol       thalach       oldpeak\n",
       "count  9.150000e+02  9.150000e+02  9.150000e+02  9.150000e+02  9.150000e+02\n",
       "mean   3.570914e-16  2.725203e-16  1.613615e-16 -3.388910e-16  1.316494e-16\n",
       "std    1.000547e+00  1.000547e+00  1.000547e+00  1.000547e+00  1.000547e+00\n",
       "min   -2.716360e+00 -2.478595e+00 -2.447462e+00 -2.801991e+00 -1.371364e+00\n",
       "25%   -6.942689e-01 -7.030331e-01 -6.471458e-01 -6.691562e-01 -8.698826e-01\n",
       "50%    5.071222e-02 -1.111792e-01 -5.836304e-02  4.178866e-02 -3.684009e-01\n",
       "75%    6.892674e-01  4.806748e-01  5.530652e-01  7.527335e-01  6.345624e-01\n",
       "max    2.498507e+00  2.256236e+00  2.353382e+00  2.569593e+00  2.640489e+00"
      ]
     },
     "execution_count": 150,
     "metadata": {},
     "output_type": "execute_result"
    }
   ],
   "source": [
    "# Escalamos los datos numéricos para que se ajusten a una distribución normal\n",
    "X[numerical_vars] = scale(X[numerical_vars])\n",
    "\n",
    "X[numerical_vars].describe()"
   ]
  },
  {
   "cell_type": "code",
   "execution_count": 151,
   "id": "0b0bde0a-7f45-461e-8c4d-87509be97bc8",
   "metadata": {},
   "outputs": [
    {
     "data": {
      "text/html": [
       "<div>\n",
       "<style scoped>\n",
       "    .dataframe tbody tr th:only-of-type {\n",
       "        vertical-align: middle;\n",
       "    }\n",
       "\n",
       "    .dataframe tbody tr th {\n",
       "        vertical-align: top;\n",
       "    }\n",
       "\n",
       "    .dataframe thead th {\n",
       "        text-align: right;\n",
       "    }\n",
       "</style>\n",
       "<table border=\"1\" class=\"dataframe\">\n",
       "  <thead>\n",
       "    <tr style=\"text-align: right;\">\n",
       "      <th></th>\n",
       "      <th>Unique values</th>\n",
       "    </tr>\n",
       "  </thead>\n",
       "  <tbody>\n",
       "    <tr>\n",
       "      <th>sex</th>\n",
       "      <td>[0, 1]</td>\n",
       "    </tr>\n",
       "    <tr>\n",
       "      <th>cp</th>\n",
       "      <td>[1, 2, 3, 4]</td>\n",
       "    </tr>\n",
       "    <tr>\n",
       "      <th>fbs</th>\n",
       "      <td>[-1, 0, 1]</td>\n",
       "    </tr>\n",
       "    <tr>\n",
       "      <th>restecg</th>\n",
       "      <td>[-1, 0, 1, 2]</td>\n",
       "    </tr>\n",
       "    <tr>\n",
       "      <th>exang</th>\n",
       "      <td>[-1, 0, 1]</td>\n",
       "    </tr>\n",
       "    <tr>\n",
       "      <th>slope</th>\n",
       "      <td>[-1, 1, 2, 3]</td>\n",
       "    </tr>\n",
       "    <tr>\n",
       "      <th>ca</th>\n",
       "      <td>[-1, 0, 1, 2, 3]</td>\n",
       "    </tr>\n",
       "    <tr>\n",
       "      <th>thal</th>\n",
       "      <td>[-1, 3, 6, 7]</td>\n",
       "    </tr>\n",
       "  </tbody>\n",
       "</table>\n",
       "</div>"
      ],
      "text/plain": [
       "            Unique values\n",
       "sex                [0, 1]\n",
       "cp           [1, 2, 3, 4]\n",
       "fbs            [-1, 0, 1]\n",
       "restecg     [-1, 0, 1, 2]\n",
       "exang          [-1, 0, 1]\n",
       "slope       [-1, 1, 2, 3]\n",
       "ca       [-1, 0, 1, 2, 3]\n",
       "thal        [-1, 3, 6, 7]"
      ]
     },
     "execution_count": 151,
     "metadata": {},
     "output_type": "execute_result"
    }
   ],
   "source": [
    "vals = { col: [sorted(list(X[col].dropna().unique()))] for col in categorical_vars }\n",
    "pd.DataFrame(vals, index=['Unique values']).transpose()"
   ]
  },
  {
   "cell_type": "code",
   "execution_count": 152,
   "id": "5af2b2e0-b36d-4856-95f6-8ca716ffed3d",
   "metadata": {},
   "outputs": [
    {
     "name": "stdout",
     "output_type": "stream",
     "text": [
      "<class 'pandas.core.frame.DataFrame'>\n",
      "RangeIndex: 915 entries, 0 to 914\n",
      "Data columns (total 27 columns):\n",
      " #   Column     Non-Null Count  Dtype  \n",
      "---  ------     --------------  -----  \n",
      " 0   sex_1      915 non-null    float64\n",
      " 1   cp_2       915 non-null    float64\n",
      " 2   cp_3       915 non-null    float64\n",
      " 3   cp_4       915 non-null    float64\n",
      " 4   fbs_0      915 non-null    float64\n",
      " 5   fbs_1      915 non-null    float64\n",
      " 6   restecg_0  915 non-null    float64\n",
      " 7   restecg_1  915 non-null    float64\n",
      " 8   restecg_2  915 non-null    float64\n",
      " 9   exang_0    915 non-null    float64\n",
      " 10  exang_1    915 non-null    float64\n",
      " 11  slope_1    915 non-null    float64\n",
      " 12  slope_2    915 non-null    float64\n",
      " 13  slope_3    915 non-null    float64\n",
      " 14  ca_0       915 non-null    float64\n",
      " 15  ca_1       915 non-null    float64\n",
      " 16  ca_2       915 non-null    float64\n",
      " 17  ca_3       915 non-null    float64\n",
      " 18  thal_3     915 non-null    float64\n",
      " 19  thal_6     915 non-null    float64\n",
      " 20  thal_7     915 non-null    float64\n",
      " 21  age        915 non-null    float64\n",
      " 22  trestbps   915 non-null    float64\n",
      " 23  chol       915 non-null    float64\n",
      " 24  thalach    915 non-null    float64\n",
      " 25  oldpeak    915 non-null    float64\n",
      " 26  split      915 non-null    object \n",
      "dtypes: float64(26), object(1)\n",
      "memory usage: 193.1+ KB\n"
     ]
    }
   ],
   "source": [
    "# ahora aplicamos OHE a las variables categóricas\n",
    "ohe = OneHotEncoder(drop= 'first', sparse = False)\n",
    "ohe_fit = ohe.fit(X[categorical_vars])\n",
    "X_ohe = pd.DataFrame(ohe.fit_transform(X[categorical_vars]))\n",
    "X_ohe.columns = ohe_fit.get_feature_names_out()\n",
    "\n",
    "X = pd.concat((X_ohe, X[numerical_vars + ['split']].reset_index()), axis=1)\n",
    "X.set_index('index')\n",
    "X.drop('index', axis=1, inplace=True)\n",
    "X.info()"
   ]
  },
  {
   "cell_type": "code",
   "execution_count": 153,
   "id": "c72a0ac6-ab63-404e-bb2e-63c418b622c5",
   "metadata": {},
   "outputs": [
    {
     "name": "stdout",
     "output_type": "stream",
     "text": [
      "(865, 26)\n",
      "(50, 26)\n"
     ]
    }
   ],
   "source": [
    "X_train = X[X['split'] != 'test']\n",
    "X_test = X[X['split'] == 'test']\n",
    "\n",
    "X_train = X_train.drop('split', axis=1)\n",
    "X_test = X_test.drop('split', axis=1)\n",
    "\n",
    "print(X_train.shape)\n",
    "print(X_test.shape)"
   ]
  },
  {
   "cell_type": "code",
   "execution_count": 154,
   "id": "ca2b9199-59c6-4cf5-82a1-12095288c52c",
   "metadata": {},
   "outputs": [
    {
     "name": "stdout",
     "output_type": "stream",
     "text": [
      "<class 'pandas.core.frame.DataFrame'>\n",
      "Int64Index: 865 entries, 50 to 914\n",
      "Data columns (total 26 columns):\n",
      " #   Column     Non-Null Count  Dtype  \n",
      "---  ------     --------------  -----  \n",
      " 0   sex_1      865 non-null    float64\n",
      " 1   cp_2       865 non-null    float64\n",
      " 2   cp_3       865 non-null    float64\n",
      " 3   cp_4       865 non-null    float64\n",
      " 4   fbs_0      865 non-null    float64\n",
      " 5   fbs_1      865 non-null    float64\n",
      " 6   restecg_0  865 non-null    float64\n",
      " 7   restecg_1  865 non-null    float64\n",
      " 8   restecg_2  865 non-null    float64\n",
      " 9   exang_0    865 non-null    float64\n",
      " 10  exang_1    865 non-null    float64\n",
      " 11  slope_1    865 non-null    float64\n",
      " 12  slope_2    865 non-null    float64\n",
      " 13  slope_3    865 non-null    float64\n",
      " 14  ca_0       865 non-null    float64\n",
      " 15  ca_1       865 non-null    float64\n",
      " 16  ca_2       865 non-null    float64\n",
      " 17  ca_3       865 non-null    float64\n",
      " 18  thal_3     865 non-null    float64\n",
      " 19  thal_6     865 non-null    float64\n",
      " 20  thal_7     865 non-null    float64\n",
      " 21  age        865 non-null    float64\n",
      " 22  trestbps   865 non-null    float64\n",
      " 23  chol       865 non-null    float64\n",
      " 24  thalach    865 non-null    float64\n",
      " 25  oldpeak    865 non-null    float64\n",
      "dtypes: float64(26)\n",
      "memory usage: 182.5 KB\n"
     ]
    }
   ],
   "source": [
    "X_train.info()"
   ]
  },
  {
   "cell_type": "code",
   "execution_count": 155,
   "id": "05f73c12-8467-41a0-a4fc-c41f58f3e444",
   "metadata": {},
   "outputs": [
    {
     "name": "stdout",
     "output_type": "stream",
     "text": [
      "0    399\n",
      "1    185\n",
      "3    125\n",
      "2    123\n",
      "4     33\n",
      "Name: label, dtype: int64\n"
     ]
    },
    {
     "data": {
      "text/plain": [
       "{0: 100.0, 1: 46.37, 3: 31.33, 2: 30.83, 4: 8.27}"
      ]
     },
     "execution_count": 155,
     "metadata": {},
     "output_type": "execute_result"
    }
   ],
   "source": [
    "counts = y.value_counts()\n",
    "\n",
    "print(counts) \n",
    "\n",
    "{ n: round(100 * val / counts[0], 2) for n, val in counts.items() }"
   ]
  },
  {
   "cell_type": "code",
   "execution_count": 156,
   "id": "1ccf1af1-d2a5-4f9d-9973-536c437bbb7f",
   "metadata": {},
   "outputs": [],
   "source": [
    "# Como tenemos muy pocos datos de la clase 4, vamos a hacer oversampling para que esté más balanceado, \n",
    "# doblando el número de muestras de esta clase, de 33 a 66\n",
    "\n",
    "sm = SMOTE(sampling_strategy={4: 120}, random_state = 1, k_neighbors = 7)\n",
    "X_train, y_train = sm.fit_resample(X_train, y_train)"
   ]
  },
  {
   "cell_type": "code",
   "execution_count": 157,
   "id": "b1460007-a558-41b3-a1b1-f6cbdd188b1d",
   "metadata": {},
   "outputs": [
    {
     "data": {
      "text/plain": [
       "{0: 100.0, 1: 46.37, 3: 31.33, 2: 30.83, 4: 30.08}"
      ]
     },
     "execution_count": 157,
     "metadata": {},
     "output_type": "execute_result"
    }
   ],
   "source": [
    "counts = y_train.value_counts()\n",
    "\n",
    "{ n: round(100 * val / counts[0], 2) for n, val in counts.items() }"
   ]
  },
  {
   "cell_type": "code",
   "execution_count": 158,
   "id": "64960036-55b8-4aee-94d5-c4c2459dbc20",
   "metadata": {},
   "outputs": [
    {
     "name": "stdout",
     "output_type": "stream",
     "text": [
      "(952, 26)\n",
      "(952,)\n"
     ]
    }
   ],
   "source": [
    "print(X_train.shape)\n",
    "print(y_train.shape)"
   ]
  },
  {
   "cell_type": "markdown",
   "id": "ffe97830-3d4c-4ec8-ba38-e4103a8f4204",
   "metadata": {
    "tags": []
   },
   "source": [
    "## Random Forest Classifier"
   ]
  },
  {
   "cell_type": "code",
   "execution_count": 75,
   "id": "4d43b58c-0c0e-4770-8e7f-1e1481e11d3c",
   "metadata": {},
   "outputs": [],
   "source": [
    "from sklearn.model_selection import GridSearchCV, StratifiedKFold\n",
    "from sklearn.ensemble import RandomForestClassifier as RFC\n"
   ]
  },
  {
   "cell_type": "code",
   "execution_count": 76,
   "id": "c0614ef8-cf7d-4a3b-b90a-741125d96c04",
   "metadata": {},
   "outputs": [],
   "source": [
    "def kfold_test(model, n_splits, X, y):\n",
    "    kf = StratifiedKFold(n_splits=10, shuffle=True, random_state=1)\n",
    "    cv_score =[]\n",
    "    for train_idx, val_idx in kf.split(X, y):\n",
    "        x_tr, x_val = X.iloc[train_idx], X.iloc[val_idx]\n",
    "        y_tr, y_val = y[train_idx], y[val_idx]\n",
    "\n",
    "        #model\n",
    "        model.fit(x_tr,y_tr)\n",
    "        score_f1 = f1_score(y_val, model.predict(x_val), average='micro')\n",
    "        cv_score.append(score_f1)\n",
    "\n",
    "    return cv_score\n",
    "\n",
    "def grid_search(model, params, X, y, n_splits = 5, n_jobs = 8, scoring = 'f1_micro'):\n",
    "    grid = GridSearchCV(estimator=model, \n",
    "                        param_grid=params, \n",
    "                        scoring=scoring,\n",
    "                        cv=n_splits, \n",
    "                        verbose=1,\n",
    "                        n_jobs=n_jobs)\n",
    "    grid.fit(X, y)\n",
    "    print(f'Best params : {grid.best_params_}')\n",
    "    print(f'Best score: {grid.best_score_}')\n",
    "    return grid"
   ]
  },
  {
   "cell_type": "code",
   "execution_count": 24,
   "id": "91d3bc26-76ea-47f4-b22f-836ea8d6c84d",
   "metadata": {},
   "outputs": [],
   "source": [
    "model_rf = RFC(random_state = 1, \n",
    "               class_weight = {0: 1, 1: 2, 2: 2, 3: 2, 4: 2})"
   ]
  },
  {
   "cell_type": "code",
   "execution_count": 166,
   "id": "b347d1d9-9724-4c14-9053-e2649ace1ef8",
   "metadata": {},
   "outputs": [
    {
     "name": "stdout",
     "output_type": "stream",
     "text": [
      "Fitting 5 folds for each of 3150 candidates, totalling 15750 fits\n",
      "Best params : {'criterion': 'entropy', 'max_depth': 11, 'max_features': 5, 'min_samples_leaf': 2, 'min_samples_split': 6, 'n_estimators': 50}\n",
      "Best score: 0.6071920639294571\n"
     ]
    }
   ],
   "source": [
    "params = {\n",
    "'criterion': ['entropy', 'gini'],\n",
    "'min_samples_leaf': [2, 3, 4], \n",
    "'min_samples_split': [2, 3, 4, 5, 6],\n",
    "'max_depth': [5, 7, 9, 11, 12, 13, 14],\n",
    "'max_features': [5, 7, 10, 15, 21],\n",
    "'n_estimators': [25, 50, 75]\n",
    "}\n",
    "\n",
    "\n",
    "grid = grid_search(model_rf, params, X_train, y_train, n_jobs =6)"
   ]
  },
  {
   "cell_type": "code",
   "execution_count": 27,
   "id": "4c6cec52-0a6e-4ce5-8e13-50129fdb449c",
   "metadata": {},
   "outputs": [
    {
     "name": "stdout",
     "output_type": "stream",
     "text": [
      "Fitting 5 folds for each of 648 candidates, totalling 3240 fits\n",
      "Best params : {'criterion': 'entropy', 'max_depth': 12, 'max_features': 4, 'min_samples_leaf': 2, 'min_samples_split': 3, 'n_estimators': 100}\n",
      "Best score: 0.6071810416092587\n"
     ]
    }
   ],
   "source": [
    "params = {\n",
    "'criterion': ['entropy', 'gini'],\n",
    "'min_samples_leaf': [2, 3, 4], \n",
    "'min_samples_split': [3, 4, 5],\n",
    "'max_depth': [11, 12, 13],\n",
    "'max_features': [4, 5, 6, 7],\n",
    "'n_estimators': [50, 75, 100]\n",
    "}\n",
    "\n",
    "\n",
    "grid = grid_search(model_rf, params, X, y, n_jobs =6)"
   ]
  },
  {
   "cell_type": "code",
   "execution_count": 167,
   "id": "d158ce62-f8c3-438f-9aa6-e9ab30b6e088",
   "metadata": {},
   "outputs": [
    {
     "name": "stdout",
     "output_type": "stream",
     "text": [
      "F1 score (train): 0.9453781512605042\n",
      "F1 score 10-fold: 0.5808333333333333\n"
     ]
    }
   ],
   "source": [
    "best_config = grid.best_params_\n",
    "\n",
    "model_rf = RFC(criterion = best_config['criterion'], \n",
    "               min_samples_leaf = best_config['min_samples_leaf'],\n",
    "               min_samples_split = best_config['min_samples_split'],\n",
    "               max_depth = best_config['max_depth'],\n",
    "               max_features = best_config['max_features'],\n",
    "               n_estimators = 200, # best_config['n_estimators'], \n",
    "               class_weight = {0:1, 1: 2, 2: 2, 3: 2, 4: 2}, # best_config['weight']\n",
    "               n_jobs = 7,\n",
    "               random_state = 1)\n",
    "\n",
    "model_rf.fit(X_train, y_train)\n",
    "\n",
    "pred_y = model_rf.predict(X_train) \n",
    "\n",
    "print(f\"F1 score (train): {f1_score(y_train, pred_y, average='micro')}\")\n",
    "\n",
    "f1_scores = kfold_test(model_rf, 10, X_train, y_train)\n",
    "\n",
    "print(f\"F1 score 10-fold: {np.mean(f1_scores)}\")"
   ]
  },
  {
   "cell_type": "code",
   "execution_count": 39,
   "id": "5ba26733-5501-46e8-8ca0-3599afe1ec41",
   "metadata": {},
   "outputs": [
    {
     "data": {
      "text/plain": [
       "<sklearn.metrics._plot.confusion_matrix.ConfusionMatrixDisplay at 0x7fe0c822a070>"
      ]
     },
     "execution_count": 39,
     "metadata": {},
     "output_type": "execute_result"
    },
    {
     "data": {
      "image/png": "[encoded data removed]",
      "text/plain": [
       "<Figure size 640x480 with 2 Axes>"
      ]
     },
     "metadata": {},
     "output_type": "display_data"
    }
   ],
   "source": [
    "conf_matrix = confusion_matrix(y, pred_y)\n",
    "disp = ConfusionMatrixDisplay(confusion_matrix=conf_matrix, display_labels=model_rf.classes_)\n",
    "disp.plot()"
   ]
  },
  {
   "cell_type": "code",
   "execution_count": 168,
   "id": "4e03e0ad-df56-4c1b-afd7-1bf8f79c22e6",
   "metadata": {},
   "outputs": [
    {
     "data": {
      "text/plain": [
       "<BarContainer object of 26 artists>"
      ]
     },
     "execution_count": 168,
     "metadata": {},
     "output_type": "execute_result"
    },
    {
     "data": {
      "image/png": "[encoded data removed]",
      "text/plain": [
       "<Figure size 640x480 with 1 Axes>"
      ]
     },
     "metadata": {},
     "output_type": "display_data"
    }
   ],
   "source": [
    "sorted_idx = model_rf.feature_importances_.argsort()\n",
    "\n",
    "plt.barh(X_train.columns[sorted_idx], model_rf.feature_importances_[sorted_idx])"
   ]
  },
  {
   "cell_type": "code",
   "execution_count": 81,
   "id": "d57b24b6-5ece-45f8-9ed2-5d00c8f78adb",
   "metadata": {},
   "outputs": [],
   "source": [
    "import shap"
   ]
  },
  {
   "cell_type": "code",
   "execution_count": 169,
   "id": "85953dda-5b69-4a1a-a359-8850fb5f8789",
   "metadata": {},
   "outputs": [
    {
     "data": {
      "image/png": "[encoded data removed]",
      "text/plain": [
       "<Figure size 800x950 with 1 Axes>"
      ]
     },
     "metadata": {},
     "output_type": "display_data"
    }
   ],
   "source": [
    "explainer = shap.TreeExplainer(model_rf)\n",
    "shap_values = explainer.shap_values(X_train)\n",
    "shap.summary_plot(shap_values, X_train)"
   ]
  },
  {
   "cell_type": "code",
   "execution_count": 4,
   "id": "a0cf9d9b-2709-4aa1-b949-77a752a4167e",
   "metadata": {},
   "outputs": [],
   "source": [
    "from sklearn.inspection import permutation_importance"
   ]
  },
  {
   "cell_type": "code",
   "execution_count": 3,
   "id": "fa3083f1-40d6-4c40-aa4e-ec0086ee97f1",
   "metadata": {},
   "outputs": [
    {
     "ename": "NameError",
     "evalue": "name 'permutation_importance' is not defined",
     "output_type": "error",
     "traceback": [
      "\u001b[0;31m---------------------------------------------------------------------------\u001b[0m",
      "\u001b[0;31mNameError\u001b[0m                                 Traceback (most recent call last)",
      "\u001b[0;32m/var/folders/bd/k8zyrgxj70j4dkjk7b7twpjh0000gn/T/ipykernel_97406/1149195230.py\u001b[0m in \u001b[0;36m<module>\u001b[0;34m\u001b[0m\n\u001b[1;32m      1\u001b[0m \u001b[0;31m# plt.figure(figsize=(10,6))\u001b[0m\u001b[0;34m\u001b[0m\u001b[0;34m\u001b[0m\u001b[0m\n\u001b[1;32m      2\u001b[0m \u001b[0;34m\u001b[0m\u001b[0m\n\u001b[0;32m----> 3\u001b[0;31m \u001b[0mperm_importance\u001b[0m \u001b[0;34m=\u001b[0m \u001b[0mpermutation_importance\u001b[0m\u001b[0;34m(\u001b[0m\u001b[0mmodel_rf\u001b[0m\u001b[0;34m,\u001b[0m \u001b[0mX_train\u001b[0m\u001b[0;34m,\u001b[0m \u001b[0my_train\u001b[0m\u001b[0;34m)\u001b[0m\u001b[0;34m\u001b[0m\u001b[0;34m\u001b[0m\u001b[0m\n\u001b[0m\u001b[1;32m      4\u001b[0m \u001b[0msorted_idx\u001b[0m \u001b[0;34m=\u001b[0m \u001b[0mperm_importance\u001b[0m\u001b[0;34m.\u001b[0m\u001b[0mimportances_mean\u001b[0m\u001b[0;34m.\u001b[0m\u001b[0margsort\u001b[0m\u001b[0;34m(\u001b[0m\u001b[0;34m)\u001b[0m\u001b[0;34m\u001b[0m\u001b[0;34m\u001b[0m\u001b[0m\n\u001b[1;32m      5\u001b[0m \u001b[0mplt\u001b[0m\u001b[0;34m.\u001b[0m\u001b[0mbarh\u001b[0m\u001b[0;34m(\u001b[0m\u001b[0mX_train\u001b[0m\u001b[0;34m.\u001b[0m\u001b[0mcolumns\u001b[0m\u001b[0;34m[\u001b[0m\u001b[0msorted_idx\u001b[0m\u001b[0;34m]\u001b[0m\u001b[0;34m,\u001b[0m \u001b[0mperm_importance\u001b[0m\u001b[0;34m.\u001b[0m\u001b[0mimportances_mean\u001b[0m\u001b[0;34m[\u001b[0m\u001b[0msorted_idx\u001b[0m\u001b[0;34m]\u001b[0m\u001b[0;34m)\u001b[0m\u001b[0;34m\u001b[0m\u001b[0;34m\u001b[0m\u001b[0m\n",
      "\u001b[0;31mNameError\u001b[0m: name 'permutation_importance' is not defined"
     ]
    }
   ],
   "source": [
    "# plt.figure(figsize=(10,6))\n",
    "\n",
    "perm_importance = permutation_importance(model_rf, X_train, y_train)\n",
    "sorted_idx = perm_importance.importances_mean.argsort()\n",
    "plt.barh(X_train.columns[sorted_idx], perm_importance.importances_mean[sorted_idx])\n",
    "plt.xlabel(\"Permutation Importance\")\n"
   ]
  },
  {
   "cell_type": "markdown",
   "id": "d03201c5-a487-418a-8223-eff63666864c",
   "metadata": {},
   "source": [
    "### Random Forest sin usar class_weights"
   ]
  },
  {
   "cell_type": "code",
   "execution_count": 77,
   "id": "71fd6946-1415-42f9-8e8c-bb3cb7b03687",
   "metadata": {},
   "outputs": [],
   "source": [
    "model_rf2 = RFC(random_state = 1)"
   ]
  },
  {
   "cell_type": "code",
   "execution_count": 41,
   "id": "3c2915cd-56f3-438f-9517-49fbfb1659a8",
   "metadata": {},
   "outputs": [
    {
     "name": "stdout",
     "output_type": "stream",
     "text": [
      "Fitting 5 folds for each of 3150 candidates, totalling 15750 fits\n",
      "Best params : {'criterion': 'entropy', 'max_depth': 9, 'max_features': 7, 'min_samples_leaf': 2, 'min_samples_split': 6, 'n_estimators': 75}\n",
      "Best score: 0.6061284100303114\n"
     ]
    }
   ],
   "source": [
    "params = {\n",
    "'criterion': ['entropy', 'gini'],\n",
    "'min_samples_leaf': [2, 3, 4], \n",
    "'min_samples_split': [2, 3, 4, 5, 6],\n",
    "'max_depth': [5, 7, 9, 11, 12, 13, 14],\n",
    "'max_features': [5, 7, 10, 15, 21],\n",
    "'n_estimators': [25, 50, 75]\n",
    "}\n",
    "\n",
    "\n",
    "grid = grid_search(model_rf2, params, X, y, n_jobs =6)"
   ]
  },
  {
   "cell_type": "code",
   "execution_count": 45,
   "id": "8614f1d3-8f4a-4d3d-a699-5adfeb715118",
   "metadata": {},
   "outputs": [
    {
     "name": "stdout",
     "output_type": "stream",
     "text": [
      "Fitting 5 folds for each of 108 candidates, totalling 540 fits\n",
      "Best params : {'criterion': 'entropy', 'max_depth': 9, 'max_features': 6, 'min_samples_leaf': 2, 'min_samples_split': 5, 'n_estimators': 100}\n",
      "Best score: 0.6071865527693578\n"
     ]
    }
   ],
   "source": [
    "params = {\n",
    "'criterion': ['entropy'],\n",
    "'min_samples_leaf': [2, 3], \n",
    "'min_samples_split': [4, 5, 6],\n",
    "'max_depth': [8, 9, 10],\n",
    "'max_features': [5, 6, 7],\n",
    "'n_estimators': [75, 100]\n",
    "}\n",
    "grid = grid_search(model_rf2, params, X, y, n_jobs =6)"
   ]
  },
  {
   "cell_type": "code",
   "execution_count": 78,
   "id": "40b0b159-9f69-4237-b573-2046d185daed",
   "metadata": {},
   "outputs": [
    {
     "name": "stdout",
     "output_type": "stream",
     "text": [
      "F1 score (train): 0.8855042016806722\n",
      "F1 score 10-fold: 0.5871162280701754\n"
     ]
    }
   ],
   "source": [
    "best_config = grid.best_params_\n",
    "\n",
    "model_rf2 = RFC(criterion = best_config['criterion'], \n",
    "               min_samples_leaf = best_config['min_samples_leaf'],\n",
    "               min_samples_split = best_config['min_samples_split'],\n",
    "               max_depth = best_config['max_depth'],\n",
    "               max_features = best_config['max_features'],\n",
    "               n_estimators = 100, # best_config['n_estimators'], \n",
    "               # class_weight = {0:1, 1: 2, 2: 2, 3: 2, 4: 2}, # best_config['weight']\n",
    "               n_jobs = 7,\n",
    "               random_state = 1)\n",
    "\n",
    "model_rf2.fit(X, y)\n",
    "\n",
    "pred_y = model_rf2.predict(X) \n",
    "\n",
    "print(f\"F1 score (train): {f1_score(y, pred_y, average='micro')}\")\n",
    "\n",
    "f1_scores = kfold_test(model_rf, 10, X, y)\n",
    "\n",
    "print(f\"F1 score 10-fold: {np.mean(f1_scores)}\")"
   ]
  },
  {
   "cell_type": "code",
   "execution_count": 79,
   "id": "37467290-416e-4609-b3a3-43de38d24d38",
   "metadata": {},
   "outputs": [
    {
     "data": {
      "text/plain": [
       "<BarContainer object of 26 artists>"
      ]
     },
     "execution_count": 79,
     "metadata": {},
     "output_type": "execute_result"
    },
    {
     "data": {
      "image/png": "[encoded data removed]",
      "text/plain": [
       "<Figure size 640x480 with 1 Axes>"
      ]
     },
     "metadata": {},
     "output_type": "display_data"
    }
   ],
   "source": [
    "plt.barh(X_train.columns, model_rf2.feature_importances_)"
   ]
  },
  {
   "cell_type": "markdown",
   "id": "f86704d1-779c-4c15-a693-e774abe57e2c",
   "metadata": {},
   "source": [
    "### Predicciones para el test dataset"
   ]
  },
  {
   "cell_type": "code",
   "execution_count": 52,
   "id": "dd8bb636-9d3d-43cc-9cfa-5b921413022b",
   "metadata": {},
   "outputs": [
    {
     "name": "stdout",
     "output_type": "stream",
     "text": [
      "ID,label\n",
      "0,0\n",
      "1,1\n",
      "2,2\n",
      "3,3\n",
      "4,0\n",
      "5,3\n",
      "6,3\n",
      "7,3\n",
      "8,2\n"
     ]
    }
   ],
   "source": [
    "pred_y_test = model_rf.predict(X_test)\n",
    "pred_df = pd.DataFrame({'ID': X_test.index.values, 'label': pred_y_test.astype(int)})\n",
    "pred_df.to_csv('../submission_rf2.csv', index=False)\n",
    "\n",
    "!head '../submission_rf2.csv'"
   ]
  },
  {
   "cell_type": "code",
   "execution_count": 51,
   "id": "48d6f5a8-1dcf-4f82-b409-1c6cb937d1b2",
   "metadata": {},
   "outputs": [
    {
     "data": {
      "text/plain": [
       "<sklearn.metrics._plot.confusion_matrix.ConfusionMatrixDisplay at 0x7fe0bb5796a0>"
      ]
     },
     "execution_count": 51,
     "metadata": {},
     "output_type": "execute_result"
    },
    {
     "data": {
      "image/png": "[encoded data removed]",
      "text/plain": [
       "<Figure size 640x480 with 2 Axes>"
      ]
     },
     "metadata": {},
     "output_type": "display_data"
    }
   ],
   "source": [
    "y_rf = pd.read_csv('../submission_rf.csv')\n",
    "\n",
    "conf_matrix = confusion_matrix(y_rf['label'], pred_y_test)\n",
    "disp = ConfusionMatrixDisplay(confusion_matrix=conf_matrix, display_labels=model_rf.classes_)\n",
    "disp.plot()"
   ]
  },
  {
   "cell_type": "code",
   "execution_count": 55,
   "id": "e99ef963-44fd-4fd8-9dc5-fd72dde80c4d",
   "metadata": {},
   "outputs": [
    {
     "ename": "AttributeError",
     "evalue": "'RandomForestClassifier' object has no attribute 'feature_names'",
     "output_type": "error",
     "traceback": [
      "\u001b[0;31m---------------------------------------------------------------------------\u001b[0m",
      "\u001b[0;31mAttributeError\u001b[0m                            Traceback (most recent call last)",
      "\u001b[0;32m/var/folders/bd/k8zyrgxj70j4dkjk7b7twpjh0000gn/T/ipykernel_92868/4006926495.py\u001b[0m in \u001b[0;36m<module>\u001b[0;34m\u001b[0m\n\u001b[0;32m----> 1\u001b[0;31m \u001b[0mmodel_rf2\u001b[0m\u001b[0;34m.\u001b[0m\u001b[0mfeature_names\u001b[0m\u001b[0;34m\u001b[0m\u001b[0;34m\u001b[0m\u001b[0m\n\u001b[0m",
      "\u001b[0;31mAttributeError\u001b[0m: 'RandomForestClassifier' object has no attribute 'feature_names'"
     ]
    }
   ],
   "source": [
    "model_rf2.feature_names"
   ]
  },
  {
   "cell_type": "code",
   "execution_count": null,
   "id": "6dbc21f5-3d71-4744-b17f-aeb7a3ff81f7",
   "metadata": {},
   "outputs": [],
   "source": []
  }
 ],
 "metadata": {
  "kernelspec": {
   "display_name": "Python 3 (ipykernel)",
   "language": "python",
   "name": "python3"
  },
  "language_info": {
   "codemirror_mode": {
    "name": "ipython",
    "version": 3
   },
   "file_extension": ".py",
   "mimetype": "text/x-python",
   "name": "python",
   "nbconvert_exporter": "python",
   "pygments_lexer": "ipython3",
   "version": "3.9.7"
  }
 },
 "nbformat": 4,
 "nbformat_minor": 5
}
