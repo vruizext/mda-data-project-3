{
 "cells": [
  {
   "cell_type": "code",
   "execution_count": 2,
   "id": "bab5c87a-af3d-414d-b100-07a9b2cd5045",
   "metadata": {},
   "outputs": [],
   "source": [
    "import numpy as np\n",
    "import pandas as pd \n"
   ]
  },
  {
   "cell_type": "code",
   "execution_count": 12,
   "id": "f63d813f-589e-4293-a6b6-87a4ab2b9f58",
   "metadata": {},
   "outputs": [
    {
     "data": {
      "text/html": [
       "<div>\n",
       "<style scoped>\n",
       "    .dataframe tbody tr th:only-of-type {\n",
       "        vertical-align: middle;\n",
       "    }\n",
       "\n",
       "    .dataframe tbody tr th {\n",
       "        vertical-align: top;\n",
       "    }\n",
       "\n",
       "    .dataframe thead th {\n",
       "        text-align: right;\n",
       "    }\n",
       "</style>\n",
       "<table border=\"1\" class=\"dataframe\">\n",
       "  <thead>\n",
       "    <tr style=\"text-align: right;\">\n",
       "      <th></th>\n",
       "      <th>s1_rf_170423</th>\n",
       "      <th>s2_180423_xgb</th>\n",
       "      <th>s3_rf_230423</th>\n",
       "      <th>s4_dt_240423</th>\n",
       "      <th>s5_dt_300423</th>\n",
       "      <th>s6_xgb_010523</th>\n",
       "      <th>s7_lgbm_010523</th>\n",
       "    </tr>\n",
       "  </thead>\n",
       "  <tbody>\n",
       "    <tr>\n",
       "      <th>0</th>\n",
       "      <td>0</td>\n",
       "      <td>0</td>\n",
       "      <td>0</td>\n",
       "      <td>0</td>\n",
       "      <td>0</td>\n",
       "      <td>0</td>\n",
       "      <td>0</td>\n",
       "    </tr>\n",
       "    <tr>\n",
       "      <th>1</th>\n",
       "      <td>1</td>\n",
       "      <td>1</td>\n",
       "      <td>3</td>\n",
       "      <td>1</td>\n",
       "      <td>1</td>\n",
       "      <td>1</td>\n",
       "      <td>1</td>\n",
       "    </tr>\n",
       "    <tr>\n",
       "      <th>2</th>\n",
       "      <td>2</td>\n",
       "      <td>2</td>\n",
       "      <td>3</td>\n",
       "      <td>2</td>\n",
       "      <td>1</td>\n",
       "      <td>1</td>\n",
       "      <td>3</td>\n",
       "    </tr>\n",
       "    <tr>\n",
       "      <th>3</th>\n",
       "      <td>1</td>\n",
       "      <td>2</td>\n",
       "      <td>1</td>\n",
       "      <td>1</td>\n",
       "      <td>1</td>\n",
       "      <td>1</td>\n",
       "      <td>1</td>\n",
       "    </tr>\n",
       "    <tr>\n",
       "      <th>4</th>\n",
       "      <td>0</td>\n",
       "      <td>0</td>\n",
       "      <td>2</td>\n",
       "      <td>3</td>\n",
       "      <td>2</td>\n",
       "      <td>4</td>\n",
       "      <td>4</td>\n",
       "    </tr>\n",
       "  </tbody>\n",
       "</table>\n",
       "</div>"
      ],
      "text/plain": [
       "   s1_rf_170423  s2_180423_xgb  s3_rf_230423  s4_dt_240423  s5_dt_300423  \\\n",
       "0             0              0             0             0             0   \n",
       "1             1              1             3             1             1   \n",
       "2             2              2             3             2             1   \n",
       "3             1              2             1             1             1   \n",
       "4             0              0             2             3             2   \n",
       "\n",
       "   s6_xgb_010523  s7_lgbm_010523  \n",
       "0              0               0  \n",
       "1              1               1  \n",
       "2              1               3  \n",
       "3              1               1  \n",
       "4              4               4  "
      ]
     },
     "execution_count": 12,
     "metadata": {},
     "output_type": "execute_result"
    }
   ],
   "source": [
    "df = pd.DataFrame()\n",
    "files = ['s1_rf_170423', 's2_180423_xgb', 's3_rf_230423', 's4_dt_240423', 's5_dt_300423', 's6_xgb_010523', 's7_lgbm_010523']\n",
    "for name in files:\n",
    "    tmp = pd.read_csv(f'./submissions/{name}.csv')\n",
    "    df[name] = tmp['label']    \n",
    "df.head()"
   ]
  },
  {
   "cell_type": "code",
   "execution_count": 13,
   "id": "cc6819ca-a33b-4b70-80ef-9c045c650620",
   "metadata": {},
   "outputs": [],
   "source": [
    "pred_y_test = df.mode(axis=1)[0]\n",
    "pred_df = pd.DataFrame({'ID': df.index.values, 'label': pred_y_test.astype(int)})\n",
    "pred_df.to_csv('./ensemble_voting1.csv', index=False)"
   ]
  },
  {
   "cell_type": "code",
   "execution_count": 14,
   "id": "72d94945-0cc6-4713-8383-16fe57ecd958",
   "metadata": {},
   "outputs": [
    {
     "data": {
      "text/plain": [
       "0.0    16\n",
       "1.0    16\n",
       "2.0     8\n",
       "3.0     7\n",
       "4.0     3\n",
       "Name: 0, dtype: int64"
      ]
     },
     "execution_count": 14,
     "metadata": {},
     "output_type": "execute_result"
    }
   ],
   "source": [
    "pred_y_test.value_counts()"
   ]
  },
  {
   "cell_type": "code",
   "execution_count": 17,
   "id": "60ae14a1-e626-4676-aa3e-bfc837925f90",
   "metadata": {},
   "outputs": [
    {
     "data": {
      "text/html": [
       "<div>\n",
       "<style scoped>\n",
       "    .dataframe tbody tr th:only-of-type {\n",
       "        vertical-align: middle;\n",
       "    }\n",
       "\n",
       "    .dataframe tbody tr th {\n",
       "        vertical-align: top;\n",
       "    }\n",
       "\n",
       "    .dataframe thead th {\n",
       "        text-align: right;\n",
       "    }\n",
       "</style>\n",
       "<table border=\"1\" class=\"dataframe\">\n",
       "  <thead>\n",
       "    <tr style=\"text-align: right;\">\n",
       "      <th></th>\n",
       "      <th>s1_rf_170423</th>\n",
       "      <th>s2_180423_xgb</th>\n",
       "      <th>s3_rf_230423</th>\n",
       "      <th>s4_dt_240423</th>\n",
       "      <th>s5_dt_300423</th>\n",
       "      <th>s6_xgb_010523</th>\n",
       "      <th>s7_lgbm_010523</th>\n",
       "      <th>s8_rf_020523</th>\n",
       "      <th>s9_xgb_030523</th>\n",
       "    </tr>\n",
       "  </thead>\n",
       "  <tbody>\n",
       "    <tr>\n",
       "      <th>0</th>\n",
       "      <td>0</td>\n",
       "      <td>0</td>\n",
       "      <td>0</td>\n",
       "      <td>0</td>\n",
       "      <td>0</td>\n",
       "      <td>0</td>\n",
       "      <td>0</td>\n",
       "      <td>0</td>\n",
       "      <td>0</td>\n",
       "    </tr>\n",
       "    <tr>\n",
       "      <th>1</th>\n",
       "      <td>1</td>\n",
       "      <td>1</td>\n",
       "      <td>3</td>\n",
       "      <td>1</td>\n",
       "      <td>1</td>\n",
       "      <td>1</td>\n",
       "      <td>1</td>\n",
       "      <td>3</td>\n",
       "      <td>1</td>\n",
       "    </tr>\n",
       "    <tr>\n",
       "      <th>2</th>\n",
       "      <td>2</td>\n",
       "      <td>2</td>\n",
       "      <td>3</td>\n",
       "      <td>2</td>\n",
       "      <td>1</td>\n",
       "      <td>1</td>\n",
       "      <td>3</td>\n",
       "      <td>1</td>\n",
       "      <td>1</td>\n",
       "    </tr>\n",
       "    <tr>\n",
       "      <th>3</th>\n",
       "      <td>1</td>\n",
       "      <td>2</td>\n",
       "      <td>1</td>\n",
       "      <td>1</td>\n",
       "      <td>1</td>\n",
       "      <td>1</td>\n",
       "      <td>1</td>\n",
       "      <td>1</td>\n",
       "      <td>1</td>\n",
       "    </tr>\n",
       "    <tr>\n",
       "      <th>4</th>\n",
       "      <td>0</td>\n",
       "      <td>0</td>\n",
       "      <td>2</td>\n",
       "      <td>3</td>\n",
       "      <td>2</td>\n",
       "      <td>4</td>\n",
       "      <td>4</td>\n",
       "      <td>1</td>\n",
       "      <td>1</td>\n",
       "    </tr>\n",
       "  </tbody>\n",
       "</table>\n",
       "</div>"
      ],
      "text/plain": [
       "   s1_rf_170423  s2_180423_xgb  s3_rf_230423  s4_dt_240423  s5_dt_300423  \\\n",
       "0             0              0             0             0             0   \n",
       "1             1              1             3             1             1   \n",
       "2             2              2             3             2             1   \n",
       "3             1              2             1             1             1   \n",
       "4             0              0             2             3             2   \n",
       "\n",
       "   s6_xgb_010523  s7_lgbm_010523  s8_rf_020523  s9_xgb_030523  \n",
       "0              0               0             0              0  \n",
       "1              1               1             3              1  \n",
       "2              1               3             1              1  \n",
       "3              1               1             1              1  \n",
       "4              4               4             1              1  "
      ]
     },
     "execution_count": 17,
     "metadata": {},
     "output_type": "execute_result"
    }
   ],
   "source": [
    "df = pd.DataFrame()\n",
    "files = ['s1_rf_170423', 's2_180423_xgb', 's3_rf_230423', 's4_dt_240423', 's5_dt_300423', 's6_xgb_010523', 's7_lgbm_010523', 's8_rf_020523', 's9_xgb_030523']\n",
    "for name in files:\n",
    "    tmp = pd.read_csv(f'./submissions/{name}.csv')\n",
    "    df[name] = tmp['label']\n",
    "df.head()"
   ]
  },
  {
   "cell_type": "code",
   "execution_count": 18,
   "id": "25e87cf0-c1e2-4bbf-9a6f-97b17ac7edad",
   "metadata": {},
   "outputs": [],
   "source": [
    "pred_y_test = df.mode(axis=1)[0]\n",
    "pred_df = pd.DataFrame({'ID': df.index.values, 'label': pred_y_test.astype(int)})\n",
    "pred_df.to_csv('./ensemble_voting2.csv', index=False)"
   ]
  },
  {
   "cell_type": "code",
   "execution_count": 19,
   "id": "74d0758e-9e91-4841-bc4d-ff398b18c98a",
   "metadata": {},
   "outputs": [
    {
     "data": {
      "text/plain": [
       "1.0    19\n",
       "0.0    17\n",
       "2.0     5\n",
       "3.0     5\n",
       "4.0     4\n",
       "Name: 0, dtype: int64"
      ]
     },
     "execution_count": 19,
     "metadata": {},
     "output_type": "execute_result"
    }
   ],
   "source": [
    "pred_y_test.value_counts()"
   ]
  },
  {
   "cell_type": "code",
   "execution_count": null,
   "id": "c88f2d60-688c-4dcc-80d6-b619ac95ebe5",
   "metadata": {},
   "outputs": [],
   "source": []
  }
 ],
 "metadata": {
  "kernelspec": {
   "display_name": "Python 3 (ipykernel)",
   "language": "python",
   "name": "python3"
  },
  "language_info": {
   "codemirror_mode": {
    "name": "ipython",
    "version": 3
   },
   "file_extension": ".py",
   "mimetype": "text/x-python",
   "name": "python",
   "nbconvert_exporter": "python",
   "pygments_lexer": "ipython3",
   "version": "3.9.7"
  }
 },
 "nbformat": 4,
 "nbformat_minor": 5
}
