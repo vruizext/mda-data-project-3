{
 "cells": [
  {
   "cell_type": "code",
   "execution_count": 101,
   "id": "927fc4f1-c2df-4702-af6d-6fdcd002b8bf",
   "metadata": {},
   "outputs": [],
   "source": [
    "%matplotlib inline\n",
    "import numpy as np\n",
    "import matplotlib.pyplot as plt\n",
    "import pandas as pd \n",
    "from sklearn.impute import KNNImputer\n",
    "from sklearn.preprocessing import scale\n",
    "from sklearn.preprocessing import OneHotEncoder\n",
    "from imblearn.over_sampling import SMOTE\n",
    "from sklearn.metrics import confusion_matrix, ConfusionMatrixDisplay\n",
    "from sklearn.metrics import roc_auc_score, f1_score"
   ]
  },
  {
   "cell_type": "code",
   "execution_count": 140,
   "id": "ca8e84ad-db4b-4bea-bdcc-f33571365586",
   "metadata": {},
   "outputs": [
    {
     "name": "stdout",
     "output_type": "stream",
     "text": [
      "<class 'pandas.core.frame.DataFrame'>\n",
      "RangeIndex: 866 entries, 0 to 865\n",
      "Data columns (total 15 columns):\n",
      " #   Column    Non-Null Count  Dtype  \n",
      "---  ------    --------------  -----  \n",
      " 0   age       866 non-null    float64\n",
      " 1   sex       866 non-null    float64\n",
      " 2   cp        866 non-null    float64\n",
      " 3   trestbps  809 non-null    float64\n",
      " 4   chol      840 non-null    float64\n",
      " 5   fbs       784 non-null    float64\n",
      " 6   restecg   865 non-null    float64\n",
      " 7   thalach   811 non-null    float64\n",
      " 8   exang     811 non-null    float64\n",
      " 9   oldpeak   806 non-null    float64\n",
      " 10  slope     570 non-null    float64\n",
      " 11  ca        297 non-null    float64\n",
      " 12  thal      413 non-null    float64\n",
      " 13  label     866 non-null    int64  \n",
      " 14  split     866 non-null    object \n",
      "dtypes: float64(13), int64(1), object(1)\n",
      "memory usage: 101.6+ KB\n"
     ]
    }
   ],
   "source": [
    "data = pd.read_csv('../dataset.csv')\n",
    "data.info()"
   ]
  },
  {
   "cell_type": "markdown",
   "id": "70e22bb3-d1cb-474a-9bde-432b1382ef41",
   "metadata": {},
   "source": [
    "## Data preprocessing"
   ]
  },
  {
   "cell_type": "code",
   "execution_count": 141,
   "id": "850595f8-0ff4-4eae-a5d7-6f648a5d631c",
   "metadata": {
    "tags": []
   },
   "outputs": [],
   "source": [
    "\n",
    "# Eliminamos filas duplicadas\n",
    "data = data.drop_duplicates()\n",
    "\n",
    "# Definimos variables categóricas y numéricas\n",
    "categorical_vars = ['sex', 'cp', 'fbs', 'restecg', 'exang', 'slope', 'ca', 'thal']\n",
    "numerical_vars = ['age', 'trestbps', 'chol', 'thalach', 'oldpeak']\n",
    "target = ['label']\n",
    "\n",
    "# Parseamos las variables categóricas como enteros, para eliminar los decimales, y luego las pasamos a string, para que su valor \n",
    "# numérico no influya en el análisis ni en las predicciones\n",
    "data[categorical_vars + target] = data[categorical_vars + target].astype(float).astype('Int64')\n",
    "data[categorical_vars + target] = data[categorical_vars + target].astype(str)\n",
    "# ca = 9 es un oulier, lo clippeamos a 3, que es el valor máximo según las especificaciones\n",
    "data['ca'] = data['ca'].replace('9', '3')\n",
    "\n",
    "# Reemplazamos 0s en chol y trestbps con NAs\n",
    "data[['trestbps', 'chol']] = data[['trestbps', 'chol']].replace(0, np.nan)\n",
    "\n",
    "# Rellenamos los valores numéricos no informados\n",
    "# data[numerical_vars ] = data[numerical_vars].replace(pd.NA, np.nan)\n",
    "imputer = KNNImputer(missing_values=np.nan, n_neighbors=8)\n",
    "data[numerical_vars + target] = imputer.fit_transform(data[numerical_vars + target])\n",
    "\n",
    "# Clippeamos los outliers\n",
    "for var in ['trestbps', 'chol', 'thalach', 'oldpeak']:\n",
    "    tmp_data = data[var][data[var] > 0].dropna()\n",
    "    q1, q3 = np.quantile(tmp_data, 0.25), np.quantile(tmp_data, 0.75)\n",
    "    iqr = q3 - q1\n",
    "    cut_off = iqr * 1.5\n",
    "    lower, upper = q1 - cut_off, q3 + cut_off\n",
    "    data.loc[data[var] > upper, var] = upper\n",
    "    data.loc[data[var] < lower, var] = lower\n",
    "    \n",
    "# Para oldpeak no filtramos valores negativos, ya que son posibles\n",
    "#tmp_data = data['oldpeak'].dropna()\n",
    "#q1, q3 = np.quantile(tmp_data, 0.25), np.quantile(tmp_data, 0.75)\n",
    "#iqr = q3 - q1\n",
    "#cut_off = iqr * 1.5\n",
    "#lower, upper = q1 - cut_off, q3 + cut_off\n",
    "#data.loc[data['oldpeak'] > upper, 'oldpeak'] = upper\n",
    "#data.loc[data['oldpeak'] < lower, 'oldpeak'] = lower"
   ]
  },
  {
   "cell_type": "code",
   "execution_count": 142,
   "id": "35090782-a4e7-4fb8-9ae3-709cc5b0ac8b",
   "metadata": {},
   "outputs": [],
   "source": [
    "X = data.drop(['label', 'split'], axis=1)\n"
   ]
  },
  {
   "cell_type": "code",
   "execution_count": 143,
   "id": "e14fa12b-5c28-4bb3-b0c5-b4b11beda027",
   "metadata": {},
   "outputs": [],
   "source": [
    "y = data['label'].astype(int)"
   ]
  },
  {
   "cell_type": "code",
   "execution_count": 144,
   "id": "c7cde7bc-f7b2-4328-8498-5938d062c14d",
   "metadata": {},
   "outputs": [
    {
     "name": "stdout",
     "output_type": "stream",
     "text": [
      "<class 'pandas.core.frame.DataFrame'>\n",
      "Int64Index: 865 entries, 0 to 865\n",
      "Data columns (total 13 columns):\n",
      " #   Column    Non-Null Count  Dtype  \n",
      "---  ------    --------------  -----  \n",
      " 0   age       865 non-null    float64\n",
      " 1   sex       865 non-null    object \n",
      " 2   cp        865 non-null    object \n",
      " 3   trestbps  865 non-null    float64\n",
      " 4   chol      865 non-null    float64\n",
      " 5   fbs       865 non-null    object \n",
      " 6   restecg   865 non-null    object \n",
      " 7   thalach   865 non-null    float64\n",
      " 8   exang     865 non-null    object \n",
      " 9   oldpeak   865 non-null    float64\n",
      " 10  slope     865 non-null    object \n",
      " 11  ca        865 non-null    object \n",
      " 12  thal      865 non-null    object \n",
      "dtypes: float64(5), object(8)\n",
      "memory usage: 94.6+ KB\n"
     ]
    }
   ],
   "source": [
    "X.info()"
   ]
  },
  {
   "cell_type": "code",
   "execution_count": 145,
   "id": "60174c04-13a2-461e-9f4d-7105e822c089",
   "metadata": {},
   "outputs": [
    {
     "name": "stdout",
     "output_type": "stream",
     "text": [
      "<class 'pandas.core.frame.DataFrame'>\n",
      "Int64Index: 865 entries, 0 to 865\n",
      "Data columns (total 5 columns):\n",
      " #   Column    Non-Null Count  Dtype  \n",
      "---  ------    --------------  -----  \n",
      " 0   age       865 non-null    float64\n",
      " 1   trestbps  865 non-null    float64\n",
      " 2   chol      865 non-null    float64\n",
      " 3   thalach   865 non-null    float64\n",
      " 4   oldpeak   865 non-null    float64\n",
      "dtypes: float64(5)\n",
      "memory usage: 40.5 KB\n"
     ]
    }
   ],
   "source": [
    "# Escalamos los datos numéricos para que se ajusten a una distribución normal\n",
    "X[numerical_vars] = scale(X[numerical_vars])\n",
    "\n",
    "X[numerical_vars].info()"
   ]
  },
  {
   "cell_type": "code",
   "execution_count": 146,
   "id": "5af2b2e0-b36d-4856-95f6-8ca716ffed3d",
   "metadata": {},
   "outputs": [
    {
     "name": "stdout",
     "output_type": "stream",
     "text": [
      "<class 'pandas.core.frame.DataFrame'>\n",
      "RangeIndex: 865 entries, 0 to 864\n",
      "Data columns (total 26 columns):\n",
      " #   Column        Non-Null Count  Dtype  \n",
      "---  ------        --------------  -----  \n",
      " 0   sex_1         865 non-null    float64\n",
      " 1   cp_2          865 non-null    float64\n",
      " 2   cp_3          865 non-null    float64\n",
      " 3   cp_4          865 non-null    float64\n",
      " 4   fbs_1         865 non-null    float64\n",
      " 5   fbs_<NA>      865 non-null    float64\n",
      " 6   restecg_1     865 non-null    float64\n",
      " 7   restecg_2     865 non-null    float64\n",
      " 8   restecg_<NA>  865 non-null    float64\n",
      " 9   exang_1       865 non-null    float64\n",
      " 10  exang_<NA>    865 non-null    float64\n",
      " 11  slope_2       865 non-null    float64\n",
      " 12  slope_3       865 non-null    float64\n",
      " 13  slope_<NA>    865 non-null    float64\n",
      " 14  ca_1          865 non-null    float64\n",
      " 15  ca_2          865 non-null    float64\n",
      " 16  ca_3          865 non-null    float64\n",
      " 17  ca_<NA>       865 non-null    float64\n",
      " 18  thal_6        865 non-null    float64\n",
      " 19  thal_7        865 non-null    float64\n",
      " 20  thal_<NA>     865 non-null    float64\n",
      " 21  age           865 non-null    float64\n",
      " 22  trestbps      865 non-null    float64\n",
      " 23  chol          865 non-null    float64\n",
      " 24  thalach       865 non-null    float64\n",
      " 25  oldpeak       865 non-null    float64\n",
      "dtypes: float64(26)\n",
      "memory usage: 175.8 KB\n"
     ]
    }
   ],
   "source": [
    "# ahora aplicamos OHE a las variables categóricas\n",
    "ohe = OneHotEncoder(drop= 'first', sparse = False)\n",
    "ohe_fit = ohe.fit(X[categorical_vars])\n",
    "X_ohe = pd.DataFrame(ohe.fit_transform(X[categorical_vars]))\n",
    "X_ohe.columns = ohe_fit.get_feature_names_out()\n",
    "\n",
    "X = pd.concat((X_ohe, X[numerical_vars].reset_index()), axis=1)\n",
    "X.set_index('index')\n",
    "X.drop('index', axis=1, inplace=True)\n",
    "X.info()"
   ]
  },
  {
   "cell_type": "code",
   "execution_count": 172,
   "id": "2d5a313d-58b6-4a76-922a-bf063c28dd36",
   "metadata": {},
   "outputs": [
    {
     "data": {
      "text/plain": [
       "{'train': 79.88, 'val': 20.12}"
      ]
     },
     "execution_count": 172,
     "metadata": {},
     "output_type": "execute_result"
    }
   ],
   "source": [
    "counts = data['split'].value_counts()\n",
    "\n",
    "{ n: round(100 * val / sum(counts.values), 2) for n, val in counts.items() }"
   ]
  },
  {
   "cell_type": "code",
   "execution_count": 173,
   "id": "4204caba-7f82-4242-a539-4d68e2e80896",
   "metadata": {},
   "outputs": [
    {
     "data": {
      "text/plain": [
       "train    691\n",
       "val      174\n",
       "Name: split, dtype: int64"
      ]
     },
     "execution_count": 173,
     "metadata": {},
     "output_type": "execute_result"
    }
   ],
   "source": [
    "counts"
   ]
  },
  {
   "cell_type": "code",
   "execution_count": 148,
   "id": "05f73c12-8467-41a0-a4fc-c41f58f3e444",
   "metadata": {},
   "outputs": [
    {
     "name": "stdout",
     "output_type": "stream",
     "text": [
      "0    399\n",
      "1    185\n",
      "3    125\n",
      "2    123\n",
      "4     33\n",
      "Name: label, dtype: int64\n"
     ]
    },
    {
     "data": {
      "text/plain": [
       "{0: 100.0, 1: 46.37, 3: 31.33, 2: 30.83, 4: 8.27}"
      ]
     },
     "execution_count": 148,
     "metadata": {},
     "output_type": "execute_result"
    }
   ],
   "source": [
    "counts = y.value_counts()\n",
    "\n",
    "print(counts) \n",
    "\n",
    "{ n: round(100 * val / counts[0], 2) for n, val in counts.items() }"
   ]
  },
  {
   "cell_type": "code",
   "execution_count": 149,
   "id": "1ccf1af1-d2a5-4f9d-9973-536c437bbb7f",
   "metadata": {},
   "outputs": [],
   "source": [
    "# Como tenemos muy pocos datos de la clase 4, vamos a hacer oversampling para que esté más balanceado, \n",
    "# doblando el número de muestras de esta clase, de 33 a 66\n",
    "\n",
    "sm = SMOTE(sampling_strategy={4: 120}, random_state = 1, k_neighbors = 7)\n",
    "X, y = sm.fit_resample(X, y)"
   ]
  },
  {
   "cell_type": "code",
   "execution_count": 150,
   "id": "b1460007-a558-41b3-a1b1-f6cbdd188b1d",
   "metadata": {},
   "outputs": [
    {
     "data": {
      "text/plain": [
       "{0: 100.0, 1: 46.37, 3: 31.33, 2: 30.83, 4: 30.08}"
      ]
     },
     "execution_count": 150,
     "metadata": {},
     "output_type": "execute_result"
    }
   ],
   "source": [
    "counts = y.value_counts()\n",
    "\n",
    "{ n: round(100 * val / counts[0], 2) for n, val in counts.items() }"
   ]
  },
  {
   "cell_type": "markdown",
   "id": "b0835322-c335-484a-8ef3-b4fa4872d62e",
   "metadata": {},
   "source": [
    "## Test dataset"
   ]
  },
  {
   "cell_type": "markdown",
   "id": "073f8fd1-8e75-4059-8807-8e855d1fb8eb",
   "metadata": {},
   "source": [
    "Tenemos que aplicar las mismas transformaciones al test dataset"
   ]
  },
  {
   "cell_type": "code",
   "execution_count": 170,
   "id": "e6270589-109f-4559-b3dc-84fdd6f27c73",
   "metadata": {},
   "outputs": [
    {
     "name": "stdout",
     "output_type": "stream",
     "text": [
      "<class 'pandas.core.frame.DataFrame'>\n",
      "RangeIndex: 50 entries, 0 to 49\n",
      "Data columns (total 13 columns):\n",
      " #   Column    Non-Null Count  Dtype  \n",
      "---  ------    --------------  -----  \n",
      " 0   age       50 non-null     float64\n",
      " 1   sex       50 non-null     float64\n",
      " 2   cp        50 non-null     float64\n",
      " 3   trestbps  48 non-null     float64\n",
      " 4   chol      46 non-null     float64\n",
      " 5   fbs       43 non-null     float64\n",
      " 6   restecg   49 non-null     float64\n",
      " 7   thalach   50 non-null     float64\n",
      " 8   exang     50 non-null     float64\n",
      " 9   oldpeak   48 non-null     float64\n",
      " 10  slope     38 non-null     float64\n",
      " 11  ca        12 non-null     float64\n",
      " 12  thal      20 non-null     float64\n",
      "dtypes: float64(13)\n",
      "memory usage: 5.2 KB\n"
     ]
    }
   ],
   "source": [
    "X_test = pd.read_csv('../test_dataset.csv')\n",
    "X_test.info()"
   ]
  },
  {
   "cell_type": "code",
   "execution_count": 171,
   "id": "de860a9d-8c88-45c7-93e1-5339ebc94f71",
   "metadata": {},
   "outputs": [
    {
     "data": {
      "text/html": [
       "<div>\n",
       "<style scoped>\n",
       "    .dataframe tbody tr th:only-of-type {\n",
       "        vertical-align: middle;\n",
       "    }\n",
       "\n",
       "    .dataframe tbody tr th {\n",
       "        vertical-align: top;\n",
       "    }\n",
       "\n",
       "    .dataframe thead th {\n",
       "        text-align: right;\n",
       "    }\n",
       "</style>\n",
       "<table border=\"1\" class=\"dataframe\">\n",
       "  <thead>\n",
       "    <tr style=\"text-align: right;\">\n",
       "      <th></th>\n",
       "      <th>age</th>\n",
       "      <th>trestbps</th>\n",
       "      <th>chol</th>\n",
       "      <th>thalach</th>\n",
       "      <th>oldpeak</th>\n",
       "    </tr>\n",
       "  </thead>\n",
       "  <tbody>\n",
       "    <tr>\n",
       "      <th>count</th>\n",
       "      <td>50.000000</td>\n",
       "      <td>48.000000</td>\n",
       "      <td>46.000000</td>\n",
       "      <td>50.00000</td>\n",
       "      <td>48.000000</td>\n",
       "    </tr>\n",
       "    <tr>\n",
       "      <th>mean</th>\n",
       "      <td>55.120000</td>\n",
       "      <td>132.979167</td>\n",
       "      <td>194.086957</td>\n",
       "      <td>134.94000</td>\n",
       "      <td>1.366667</td>\n",
       "    </tr>\n",
       "    <tr>\n",
       "      <th>std</th>\n",
       "      <td>7.922172</td>\n",
       "      <td>18.014757</td>\n",
       "      <td>130.567109</td>\n",
       "      <td>22.18421</td>\n",
       "      <td>1.280514</td>\n",
       "    </tr>\n",
       "    <tr>\n",
       "      <th>min</th>\n",
       "      <td>35.000000</td>\n",
       "      <td>94.000000</td>\n",
       "      <td>0.000000</td>\n",
       "      <td>92.00000</td>\n",
       "      <td>0.000000</td>\n",
       "    </tr>\n",
       "    <tr>\n",
       "      <th>25%</th>\n",
       "      <td>50.000000</td>\n",
       "      <td>120.000000</td>\n",
       "      <td>38.250000</td>\n",
       "      <td>120.00000</td>\n",
       "      <td>0.000000</td>\n",
       "    </tr>\n",
       "    <tr>\n",
       "      <th>50%</th>\n",
       "      <td>56.000000</td>\n",
       "      <td>130.000000</td>\n",
       "      <td>222.000000</td>\n",
       "      <td>140.00000</td>\n",
       "      <td>1.100000</td>\n",
       "    </tr>\n",
       "    <tr>\n",
       "      <th>75%</th>\n",
       "      <td>61.000000</td>\n",
       "      <td>140.500000</td>\n",
       "      <td>278.250000</td>\n",
       "      <td>150.00000</td>\n",
       "      <td>2.125000</td>\n",
       "    </tr>\n",
       "    <tr>\n",
       "      <th>max</th>\n",
       "      <td>76.000000</td>\n",
       "      <td>190.000000</td>\n",
       "      <td>491.000000</td>\n",
       "      <td>179.00000</td>\n",
       "      <td>5.000000</td>\n",
       "    </tr>\n",
       "  </tbody>\n",
       "</table>\n",
       "</div>"
      ],
      "text/plain": [
       "             age    trestbps        chol    thalach    oldpeak\n",
       "count  50.000000   48.000000   46.000000   50.00000  48.000000\n",
       "mean   55.120000  132.979167  194.086957  134.94000   1.366667\n",
       "std     7.922172   18.014757  130.567109   22.18421   1.280514\n",
       "min    35.000000   94.000000    0.000000   92.00000   0.000000\n",
       "25%    50.000000  120.000000   38.250000  120.00000   0.000000\n",
       "50%    56.000000  130.000000  222.000000  140.00000   1.100000\n",
       "75%    61.000000  140.500000  278.250000  150.00000   2.125000\n",
       "max    76.000000  190.000000  491.000000  179.00000   5.000000"
      ]
     },
     "execution_count": 171,
     "metadata": {},
     "output_type": "execute_result"
    }
   ],
   "source": [
    "X_test[numerical_vars].describe()"
   ]
  },
  {
   "cell_type": "code",
   "execution_count": 152,
   "id": "57b83d3a-5598-4c61-bef9-9c931331558a",
   "metadata": {},
   "outputs": [],
   "source": [
    "# Parseamos las variables categóricas como enteros, para eliminar los decimales, y luego las pasamos a string, para que su valor \n",
    "# numérico no influya en el análisis ni en las predicciones\n",
    "X_test[categorical_vars] = X_test[categorical_vars].astype(float).astype('Int64')\n",
    "X_test[categorical_vars] = X_test[categorical_vars].astype(str)\n",
    "\n",
    "# Reemplazamos 0s en chol y trestbps con NAs\n",
    "X_test[['trestbps', 'chol']] = X_test[['trestbps', 'chol']].replace(0, np.nan)\n",
    "\n",
    "# Rellenamos los valores numéricos no informados\n",
    "X_test[numerical_vars] = X_test[numerical_vars].replace(pd.NA, np.nan)\n",
    "imputer = KNNImputer(missing_values=np.nan, n_neighbors=8)\n",
    "X_test[numerical_vars] = imputer.fit_transform(X_test[numerical_vars])\n",
    "\n",
    "# Clippeamos los outliers\n",
    "for var in ['trestbps', 'chol', 'thalach', 'oldpeak']:\n",
    "    tmp_data = X_test[var][X_test[var] > 0].dropna()\n",
    "    q1, q3 = np.quantile(tmp_data, 0.25), np.quantile(tmp_data, 0.75)\n",
    "    iqr = q3 - q1\n",
    "    cut_off = iqr * 1.5\n",
    "    lower, upper = q1 - cut_off, q3 + cut_off\n",
    "    X_test.loc[X_test[var] > upper, var] = upper\n",
    "    X_test.loc[X_test[var] < lower, var] = lower\n",
    "    \n",
    "# Para oldpeak no filtramos valores negativos, ya que son posibles\n",
    "# tmp_data = data['oldpeak'].dropna()\n",
    "# q1, q3 = np.quantile(tmp_data, 0.25), np.quantile(tmp_data, 0.75)\n",
    "# iqr = q3 - q1\n",
    "# cut_off = iqr * 1.5\n",
    "# lower, upper = q1 - cut_off, q3 + cut_off\n",
    "# data.loc[data['oldpeak'] > upper, 'oldpeak'] = upper\n",
    "# data.loc[data['oldpeak'] < lower, 'oldpeak'] = lower"
   ]
  },
  {
   "cell_type": "code",
   "execution_count": 153,
   "id": "268c287c-ced1-4d37-b3b8-306fa6b1b518",
   "metadata": {},
   "outputs": [
    {
     "name": "stdout",
     "output_type": "stream",
     "text": [
      "<class 'pandas.core.frame.DataFrame'>\n",
      "RangeIndex: 50 entries, 0 to 49\n",
      "Data columns (total 26 columns):\n",
      " #   Column        Non-Null Count  Dtype  \n",
      "---  ------        --------------  -----  \n",
      " 0   sex_1         50 non-null     float64\n",
      " 1   cp_2          50 non-null     float64\n",
      " 2   cp_3          50 non-null     float64\n",
      " 3   cp_4          50 non-null     float64\n",
      " 4   fbs_1         50 non-null     float64\n",
      " 5   fbs_<NA>      50 non-null     float64\n",
      " 6   restecg_1     50 non-null     float64\n",
      " 7   restecg_2     50 non-null     float64\n",
      " 8   restecg_<NA>  50 non-null     float64\n",
      " 9   exang_1       50 non-null     float64\n",
      " 10  slope_2       50 non-null     float64\n",
      " 11  slope_3       50 non-null     float64\n",
      " 12  slope_<NA>    50 non-null     float64\n",
      " 13  ca_1          50 non-null     float64\n",
      " 14  ca_2          50 non-null     float64\n",
      " 15  ca_3          50 non-null     float64\n",
      " 16  ca_<NA>       50 non-null     float64\n",
      " 17  thal_6        50 non-null     float64\n",
      " 18  thal_7        50 non-null     float64\n",
      " 19  thal_<NA>     50 non-null     float64\n",
      " 20  index         50 non-null     int64  \n",
      " 21  age           50 non-null     float64\n",
      " 22  trestbps      50 non-null     float64\n",
      " 23  chol          50 non-null     float64\n",
      " 24  thalach       50 non-null     float64\n",
      " 25  oldpeak       50 non-null     float64\n",
      "dtypes: float64(25), int64(1)\n",
      "memory usage: 10.3 KB\n"
     ]
    }
   ],
   "source": [
    "X_test[numerical_vars] = scale(X_test[numerical_vars])\n",
    "\n",
    "ohe = OneHotEncoder(drop= 'first', sparse = False)\n",
    "ohe_fit = ohe.fit(X_test[categorical_vars])\n",
    "X_test_ohe = pd.DataFrame(ohe.fit_transform(X_test[categorical_vars]))\n",
    "X_test_ohe.columns = ohe_fit.get_feature_names_out()\n",
    "\n",
    "X_test = pd.concat((X_test_ohe, X_test[numerical_vars].reset_index()), axis=1)\n",
    "X_test.set_index('index')\n",
    "X_test.info()"
   ]
  },
  {
   "cell_type": "code",
   "execution_count": 154,
   "id": "e11b8175-1c37-41d4-9e83-15336d64e4c7",
   "metadata": {},
   "outputs": [
    {
     "name": "stdout",
     "output_type": "stream",
     "text": [
      "<class 'pandas.core.frame.DataFrame'>\n",
      "RangeIndex: 50 entries, 0 to 49\n",
      "Data columns (total 25 columns):\n",
      " #   Column        Non-Null Count  Dtype  \n",
      "---  ------        --------------  -----  \n",
      " 0   sex_1         50 non-null     float64\n",
      " 1   cp_2          50 non-null     float64\n",
      " 2   cp_3          50 non-null     float64\n",
      " 3   cp_4          50 non-null     float64\n",
      " 4   fbs_1         50 non-null     float64\n",
      " 5   fbs_<NA>      50 non-null     float64\n",
      " 6   restecg_1     50 non-null     float64\n",
      " 7   restecg_2     50 non-null     float64\n",
      " 8   restecg_<NA>  50 non-null     float64\n",
      " 9   exang_1       50 non-null     float64\n",
      " 10  slope_2       50 non-null     float64\n",
      " 11  slope_3       50 non-null     float64\n",
      " 12  slope_<NA>    50 non-null     float64\n",
      " 13  ca_1          50 non-null     float64\n",
      " 14  ca_2          50 non-null     float64\n",
      " 15  ca_3          50 non-null     float64\n",
      " 16  ca_<NA>       50 non-null     float64\n",
      " 17  thal_6        50 non-null     float64\n",
      " 18  thal_7        50 non-null     float64\n",
      " 19  thal_<NA>     50 non-null     float64\n",
      " 20  age           50 non-null     float64\n",
      " 21  trestbps      50 non-null     float64\n",
      " 22  chol          50 non-null     float64\n",
      " 23  thalach       50 non-null     float64\n",
      " 24  oldpeak       50 non-null     float64\n",
      "dtypes: float64(25)\n",
      "memory usage: 9.9 KB\n"
     ]
    }
   ],
   "source": [
    "X_test.drop('index', axis=1, inplace=True)\n",
    "X_test.info()"
   ]
  },
  {
   "cell_type": "code",
   "execution_count": 155,
   "id": "ee6eb58d-6cde-4ce1-bfde-82d22e2e44e1",
   "metadata": {},
   "outputs": [],
   "source": [
    "X_test['exang_<NA>'] = 0"
   ]
  },
  {
   "cell_type": "markdown",
   "id": "ffe97830-3d4c-4ec8-ba38-e4103a8f4204",
   "metadata": {
    "tags": []
   },
   "source": [
    "## KNN Classifier"
   ]
  },
  {
   "cell_type": "code",
   "execution_count": 156,
   "id": "4d43b58c-0c0e-4770-8e7f-1e1481e11d3c",
   "metadata": {},
   "outputs": [],
   "source": [
    "from sklearn.model_selection import GridSearchCV, StratifiedKFold\n",
    "from sklearn.neighbors import KNeighborsClassifier as KNC\n"
   ]
  },
  {
   "cell_type": "code",
   "execution_count": 157,
   "id": "c0614ef8-cf7d-4a3b-b90a-741125d96c04",
   "metadata": {},
   "outputs": [],
   "source": [
    "def kfold_test(model, n_splits, X, y):\n",
    "    kf = StratifiedKFold(n_splits=10, shuffle=True, random_state=1)\n",
    "    cv_score =[]\n",
    "    for train_idx, val_idx in kf.split(X, y):\n",
    "        x_tr, x_val = X.iloc[train_idx], X.iloc[val_idx]\n",
    "        y_tr, y_val = y[train_idx], y[val_idx]\n",
    "\n",
    "        #model\n",
    "        model.fit(x_tr,y_tr)\n",
    "        score_f1 = f1_score(y_val, model.predict(x_val), average='micro')\n",
    "        cv_score.append(score_f1)\n",
    "\n",
    "    return cv_score\n",
    "\n",
    "def grid_search(model, params, X, y, n_splits = 5, n_jobs = 8, scoring = 'f1_micro'):\n",
    "    grid = GridSearchCV(estimator=model, \n",
    "                        param_grid=params, \n",
    "                        scoring=scoring,\n",
    "                        cv=n_splits, \n",
    "                        verbose=1,\n",
    "                        n_jobs=n_jobs)\n",
    "    grid.fit(X, y)\n",
    "    print(f'Best params : {grid.best_params_}')\n",
    "    print(f'Best score: {grid.best_score_}')\n",
    "    return grid"
   ]
  },
  {
   "cell_type": "code",
   "execution_count": 158,
   "id": "91d3bc26-76ea-47f4-b22f-836ea8d6c84d",
   "metadata": {},
   "outputs": [],
   "source": [
    "model_knn = KNC()"
   ]
  },
  {
   "cell_type": "code",
   "execution_count": 165,
   "id": "b347d1d9-9724-4c14-9053-e2649ace1ef8",
   "metadata": {},
   "outputs": [
    {
     "name": "stdout",
     "output_type": "stream",
     "text": [
      "Fitting 5 folds for each of 480 candidates, totalling 2400 fits\n",
      "Best params : {'leaf_size': 8, 'metric': 'manhattan', 'n_neighbors': 11, 'weights': 'distance'}\n",
      "Best score: 0.6029539818131717\n"
     ]
    }
   ],
   "source": [
    "params = {\n",
    "'weights': ['uniform', 'distance'],\n",
    "'n_neighbors': list(range(1, 21)), \n",
    "# 'algorithm': ['ball_tree', 'brute', 'kd_tree'], # \n",
    "'leaf_size': [8, 9, 10, 11],\n",
    "'metric': ['euclidean',  'cosine', 'manhattan'] # \n",
    "}\n",
    "\n",
    "grid = grid_search(model_knn, params, X, y)"
   ]
  },
  {
   "cell_type": "code",
   "execution_count": 160,
   "id": "6e4163c4-5863-474f-a68b-f2f17bfb3b49",
   "metadata": {},
   "outputs": [
    {
     "name": "stdout",
     "output_type": "stream",
     "text": [
      "Fitting 5 folds for each of 120 candidates, totalling 600 fits\n",
      "Best params : {'metric': 'manhattan', 'n_neighbors': 11, 'weights': 'distance'}\n",
      "Best score: 0.6029539818131717\n"
     ]
    }
   ],
   "source": [
    "params = {\n",
    "'weights': ['uniform', 'distance'],\n",
    "'n_neighbors': list(range(1, 21)), \n",
    "# 'algorithm': ['ball_tree', 'brute', 'kd_tree'], # \n",
    "# 'leaf_size': [10, 20, 30],\n",
    "'metric': ['euclidean',  'cosine', 'manhattan'] # \n",
    "}\n",
    "\n",
    "grid = grid_search(model_knn, params, X, y)"
   ]
  },
  {
   "cell_type": "code",
   "execution_count": 79,
   "id": "d5499f3e-b428-40ef-99a8-979398a1e21e",
   "metadata": {},
   "outputs": [
    {
     "name": "stdout",
     "output_type": "stream",
     "text": [
      "Fitting 5 folds for each of 1200 candidates, totalling 6000 fits\n",
      "Best params : {'algorithm': 'ball_tree', 'leaf_size': 10, 'metric': 'manhattan', 'n_neighbors': 11, 'weights': 'distance'}\n",
      "Best score: 0.6029539818131717\n"
     ]
    }
   ],
   "source": [
    "params = {\n",
    "'weights': ['uniform', 'distance'],\n",
    "'n_neighbors': list(range(1, 21)), \n",
    "'algorithm': ['ball_tree', 'brute', 'kd_tree'], # \n",
    "'leaf_size': [10, 15, 20, 25, 30],\n",
    "'metric': ['euclidean',  'manhattan'] # 'cosine',\n",
    "}\n",
    "\n",
    "ggrid = grid_search(model_knn, params, X, y)"
   ]
  },
  {
   "cell_type": "code",
   "execution_count": 169,
   "id": "d158ce62-f8c3-438f-9aa6-e9ab30b6e088",
   "metadata": {},
   "outputs": [
    {
     "name": "stdout",
     "output_type": "stream",
     "text": [
      "F1 score (train): 1.0\n",
      "F1 score 10-fold: 0.5997368421052631\n"
     ]
    }
   ],
   "source": [
    "best_config = grid.best_params_\n",
    "\n",
    "model_knn = KNC(n_neighbors = best_config['n_neighbors'], \n",
    "               metric = best_config['metric'],\n",
    "               weights = best_config['weights'],\n",
    "               n_jobs = 7)\n",
    "\n",
    "\n",
    "print(f\"F1 score (train): {f1_score(y, pred_y, average='micro')}\")\n",
    "\n",
    "f1_scores = kfold_test(model_knn, 10, X, y)\n",
    "\n",
    "print(f\"F1 score 10-fold: {np.mean(f1_scores)}\")"
   ]
  },
  {
   "cell_type": "code",
   "execution_count": 168,
   "id": "dd8bb636-9d3d-43cc-9cfa-5b921413022b",
   "metadata": {},
   "outputs": [
    {
     "name": "stdout",
     "output_type": "stream",
     "text": [
      "ID,label\n",
      "0,0\n",
      "1,1\n",
      "2,2\n",
      "3,0\n",
      "4,4\n",
      "5,4\n",
      "6,4\n",
      "7,3\n",
      "8,1\n"
     ]
    }
   ],
   "source": [
    "pred_y_test = model_knn.predict(X_test[X.columns.to_list()])\n",
    "pred_df = pd.DataFrame({'ID': X_test.index.values, 'label': pred_y_test.astype(int)})\n",
    "pred_df.to_csv('../submission_knn.csv', index=False)\n",
    "\n",
    "!head '../submission_knn.csv'"
   ]
  },
  {
   "cell_type": "code",
   "execution_count": 163,
   "id": "5ba26733-5501-46e8-8ca0-3599afe1ec41",
   "metadata": {},
   "outputs": [
    {
     "data": {
      "text/plain": [
       "<sklearn.metrics._plot.confusion_matrix.ConfusionMatrixDisplay at 0x7fb929697910>"
      ]
     },
     "execution_count": 163,
     "metadata": {},
     "output_type": "execute_result"
    },
    {
     "data": {
      "image/png": "[encoded data removed]",
      "text/plain": [
       "<Figure size 640x480 with 2 Axes>"
      ]
     },
     "metadata": {},
     "output_type": "display_data"
    }
   ],
   "source": [
    "conf_matrix = confusion_matrix(y, pred_y)\n",
    "disp = ConfusionMatrixDisplay(confusion_matrix=conf_matrix, display_labels=model_knn.classes_)\n",
    "disp.plot()"
   ]
  },
  {
   "cell_type": "code",
   "execution_count": null,
   "id": "45d21dee-9f75-4c8d-90a1-715fea6c6130",
   "metadata": {},
   "outputs": [],
   "source": []
  }
 ],
 "metadata": {
  "kernelspec": {
   "display_name": "Python 3 (ipykernel)",
   "language": "python",
   "name": "python3"
  },
  "language_info": {
   "codemirror_mode": {
    "name": "ipython",
    "version": 3
   },
   "file_extension": ".py",
   "mimetype": "text/x-python",
   "name": "python",
   "nbconvert_exporter": "python",
   "pygments_lexer": "ipython3",
   "version": "3.9.7"
  }
 },
 "nbformat": 4,
 "nbformat_minor": 5
}
